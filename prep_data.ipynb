{
 "cells": [
  {
   "cell_type": "code",
   "execution_count": 1,
   "metadata": {},
   "outputs": [],
   "source": [
    "import pandas as pd\n",
    "import numpy as np\n",
    "import matplotlib.pyplot as plt"
   ]
  },
  {
   "cell_type": "code",
   "execution_count": 2,
   "metadata": {},
   "outputs": [
    {
     "data": {
      "application/vnd.microsoft.datawrangler.viewer.v0+json": {
       "columns": [
        {
         "name": "index",
         "rawType": "int64",
         "type": "integer"
        },
        {
         "name": "PassengerId",
         "rawType": "object",
         "type": "string"
        },
        {
         "name": "HomePlanet",
         "rawType": "object",
         "type": "string"
        },
        {
         "name": "CryoSleep",
         "rawType": "object",
         "type": "unknown"
        },
        {
         "name": "Cabin",
         "rawType": "object",
         "type": "string"
        },
        {
         "name": "Destination",
         "rawType": "object",
         "type": "string"
        },
        {
         "name": "Age",
         "rawType": "float64",
         "type": "float"
        },
        {
         "name": "VIP",
         "rawType": "object",
         "type": "unknown"
        },
        {
         "name": "RoomService",
         "rawType": "float64",
         "type": "float"
        },
        {
         "name": "FoodCourt",
         "rawType": "float64",
         "type": "float"
        },
        {
         "name": "ShoppingMall",
         "rawType": "float64",
         "type": "float"
        },
        {
         "name": "Spa",
         "rawType": "float64",
         "type": "float"
        },
        {
         "name": "VRDeck",
         "rawType": "float64",
         "type": "float"
        },
        {
         "name": "Name",
         "rawType": "object",
         "type": "string"
        },
        {
         "name": "Transported",
         "rawType": "bool",
         "type": "boolean"
        }
       ],
       "conversionMethod": "pd.DataFrame",
       "ref": "4885e508-80e3-4c1e-96e2-05f0e7356a69",
       "rows": [
        [
         "0",
         "0001_01",
         "Europa",
         "False",
         "B/0/P",
         "TRAPPIST-1e",
         "39.0",
         "False",
         "0.0",
         "0.0",
         "0.0",
         "0.0",
         "0.0",
         "Maham Ofracculy",
         "False"
        ],
        [
         "1",
         "0002_01",
         "Earth",
         "False",
         "F/0/S",
         "TRAPPIST-1e",
         "24.0",
         "False",
         "109.0",
         "9.0",
         "25.0",
         "549.0",
         "44.0",
         "Juanna Vines",
         "True"
        ],
        [
         "2",
         "0003_01",
         "Europa",
         "False",
         "A/0/S",
         "TRAPPIST-1e",
         "58.0",
         "True",
         "43.0",
         "3576.0",
         "0.0",
         "6715.0",
         "49.0",
         "Altark Susent",
         "False"
        ],
        [
         "3",
         "0003_02",
         "Europa",
         "False",
         "A/0/S",
         "TRAPPIST-1e",
         "33.0",
         "False",
         "0.0",
         "1283.0",
         "371.0",
         "3329.0",
         "193.0",
         "Solam Susent",
         "False"
        ],
        [
         "4",
         "0004_01",
         "Earth",
         "False",
         "F/1/S",
         "TRAPPIST-1e",
         "16.0",
         "False",
         "303.0",
         "70.0",
         "151.0",
         "565.0",
         "2.0",
         "Willy Santantines",
         "True"
        ]
       ],
       "shape": {
        "columns": 14,
        "rows": 5
       }
      },
      "text/html": [
       "<div>\n",
       "<style scoped>\n",
       "    .dataframe tbody tr th:only-of-type {\n",
       "        vertical-align: middle;\n",
       "    }\n",
       "\n",
       "    .dataframe tbody tr th {\n",
       "        vertical-align: top;\n",
       "    }\n",
       "\n",
       "    .dataframe thead th {\n",
       "        text-align: right;\n",
       "    }\n",
       "</style>\n",
       "<table border=\"1\" class=\"dataframe\">\n",
       "  <thead>\n",
       "    <tr style=\"text-align: right;\">\n",
       "      <th></th>\n",
       "      <th>PassengerId</th>\n",
       "      <th>HomePlanet</th>\n",
       "      <th>CryoSleep</th>\n",
       "      <th>Cabin</th>\n",
       "      <th>Destination</th>\n",
       "      <th>Age</th>\n",
       "      <th>VIP</th>\n",
       "      <th>RoomService</th>\n",
       "      <th>FoodCourt</th>\n",
       "      <th>ShoppingMall</th>\n",
       "      <th>Spa</th>\n",
       "      <th>VRDeck</th>\n",
       "      <th>Name</th>\n",
       "      <th>Transported</th>\n",
       "    </tr>\n",
       "  </thead>\n",
       "  <tbody>\n",
       "    <tr>\n",
       "      <th>0</th>\n",
       "      <td>0001_01</td>\n",
       "      <td>Europa</td>\n",
       "      <td>False</td>\n",
       "      <td>B/0/P</td>\n",
       "      <td>TRAPPIST-1e</td>\n",
       "      <td>39.0</td>\n",
       "      <td>False</td>\n",
       "      <td>0.0</td>\n",
       "      <td>0.0</td>\n",
       "      <td>0.0</td>\n",
       "      <td>0.0</td>\n",
       "      <td>0.0</td>\n",
       "      <td>Maham Ofracculy</td>\n",
       "      <td>False</td>\n",
       "    </tr>\n",
       "    <tr>\n",
       "      <th>1</th>\n",
       "      <td>0002_01</td>\n",
       "      <td>Earth</td>\n",
       "      <td>False</td>\n",
       "      <td>F/0/S</td>\n",
       "      <td>TRAPPIST-1e</td>\n",
       "      <td>24.0</td>\n",
       "      <td>False</td>\n",
       "      <td>109.0</td>\n",
       "      <td>9.0</td>\n",
       "      <td>25.0</td>\n",
       "      <td>549.0</td>\n",
       "      <td>44.0</td>\n",
       "      <td>Juanna Vines</td>\n",
       "      <td>True</td>\n",
       "    </tr>\n",
       "    <tr>\n",
       "      <th>2</th>\n",
       "      <td>0003_01</td>\n",
       "      <td>Europa</td>\n",
       "      <td>False</td>\n",
       "      <td>A/0/S</td>\n",
       "      <td>TRAPPIST-1e</td>\n",
       "      <td>58.0</td>\n",
       "      <td>True</td>\n",
       "      <td>43.0</td>\n",
       "      <td>3576.0</td>\n",
       "      <td>0.0</td>\n",
       "      <td>6715.0</td>\n",
       "      <td>49.0</td>\n",
       "      <td>Altark Susent</td>\n",
       "      <td>False</td>\n",
       "    </tr>\n",
       "    <tr>\n",
       "      <th>3</th>\n",
       "      <td>0003_02</td>\n",
       "      <td>Europa</td>\n",
       "      <td>False</td>\n",
       "      <td>A/0/S</td>\n",
       "      <td>TRAPPIST-1e</td>\n",
       "      <td>33.0</td>\n",
       "      <td>False</td>\n",
       "      <td>0.0</td>\n",
       "      <td>1283.0</td>\n",
       "      <td>371.0</td>\n",
       "      <td>3329.0</td>\n",
       "      <td>193.0</td>\n",
       "      <td>Solam Susent</td>\n",
       "      <td>False</td>\n",
       "    </tr>\n",
       "    <tr>\n",
       "      <th>4</th>\n",
       "      <td>0004_01</td>\n",
       "      <td>Earth</td>\n",
       "      <td>False</td>\n",
       "      <td>F/1/S</td>\n",
       "      <td>TRAPPIST-1e</td>\n",
       "      <td>16.0</td>\n",
       "      <td>False</td>\n",
       "      <td>303.0</td>\n",
       "      <td>70.0</td>\n",
       "      <td>151.0</td>\n",
       "      <td>565.0</td>\n",
       "      <td>2.0</td>\n",
       "      <td>Willy Santantines</td>\n",
       "      <td>True</td>\n",
       "    </tr>\n",
       "  </tbody>\n",
       "</table>\n",
       "</div>"
      ],
      "text/plain": [
       "  PassengerId HomePlanet CryoSleep  Cabin  Destination   Age    VIP  \\\n",
       "0     0001_01     Europa     False  B/0/P  TRAPPIST-1e  39.0  False   \n",
       "1     0002_01      Earth     False  F/0/S  TRAPPIST-1e  24.0  False   \n",
       "2     0003_01     Europa     False  A/0/S  TRAPPIST-1e  58.0   True   \n",
       "3     0003_02     Europa     False  A/0/S  TRAPPIST-1e  33.0  False   \n",
       "4     0004_01      Earth     False  F/1/S  TRAPPIST-1e  16.0  False   \n",
       "\n",
       "   RoomService  FoodCourt  ShoppingMall     Spa  VRDeck               Name  \\\n",
       "0          0.0        0.0           0.0     0.0     0.0    Maham Ofracculy   \n",
       "1        109.0        9.0          25.0   549.0    44.0       Juanna Vines   \n",
       "2         43.0     3576.0           0.0  6715.0    49.0      Altark Susent   \n",
       "3          0.0     1283.0         371.0  3329.0   193.0       Solam Susent   \n",
       "4        303.0       70.0         151.0   565.0     2.0  Willy Santantines   \n",
       "\n",
       "   Transported  \n",
       "0        False  \n",
       "1         True  \n",
       "2        False  \n",
       "3        False  \n",
       "4         True  "
      ]
     },
     "execution_count": 2,
     "metadata": {},
     "output_type": "execute_result"
    }
   ],
   "source": [
    "# Load the data\n",
    "df = pd.read_csv('data/train.csv')\n",
    "df.head()\n"
   ]
  },
  {
   "cell_type": "code",
   "execution_count": 13,
   "metadata": {},
   "outputs": [
    {
     "name": "stdout",
     "output_type": "stream",
     "text": [
      "<class 'pandas.core.frame.DataFrame'>\n",
      "Index: 7088 entries, 0 to 8692\n",
      "Data columns (total 14 columns):\n",
      " #   Column        Non-Null Count  Dtype  \n",
      "---  ------        --------------  -----  \n",
      " 0   PassengerId   7088 non-null   object \n",
      " 1   HomePlanet    7088 non-null   object \n",
      " 2   CryoSleep     7088 non-null   object \n",
      " 3   Cabin         7088 non-null   object \n",
      " 4   Destination   7088 non-null   object \n",
      " 5   Age           7088 non-null   float64\n",
      " 6   VIP           7088 non-null   bool   \n",
      " 7   RoomService   7088 non-null   float64\n",
      " 8   FoodCourt     7088 non-null   float64\n",
      " 9   ShoppingMall  7088 non-null   float64\n",
      " 10  Spa           7088 non-null   float64\n",
      " 11  VRDeck        7088 non-null   float64\n",
      " 12  Name          7088 non-null   object \n",
      " 13  Transported   7088 non-null   bool   \n",
      "dtypes: bool(2), float64(6), object(6)\n",
      "memory usage: 733.7+ KB\n"
     ]
    }
   ],
   "source": [
    "df.info()"
   ]
  },
  {
   "cell_type": "code",
   "execution_count": 11,
   "metadata": {},
   "outputs": [
    {
     "data": {
      "text/plain": [
       "PassengerId       0\n",
       "HomePlanet        1\n",
       "CryoSleep       217\n",
       "Cabin           199\n",
       "Destination       1\n",
       "Age             179\n",
       "VIP               0\n",
       "RoomService     181\n",
       "FoodCourt       183\n",
       "ShoppingMall    208\n",
       "Spa             183\n",
       "VRDeck          188\n",
       "Name            200\n",
       "Transported       0\n",
       "dtype: int64"
      ]
     },
     "execution_count": 11,
     "metadata": {},
     "output_type": "execute_result"
    }
   ],
   "source": [
    "#df.isna().sum().sum()     # np.int64(2324)\n",
    "df.isna().sum()\n"
   ]
  },
  {
   "cell_type": "code",
   "execution_count": 12,
   "metadata": {},
   "outputs": [],
   "source": [
    " df = df.dropna(axis=0)    # resterait : 6606 entries, from  0 to 8692\n",
    "# df.duplicated().sum()      # 0"
   ]
  },
  {
   "cell_type": "code",
   "execution_count": 6,
   "metadata": {},
   "outputs": [
    {
     "data": {
      "text/plain": [
       "(HomePlanet\n",
       " Earth     4602\n",
       " Europa    2131\n",
       " Mars      1759\n",
       " Name: count, dtype: int64,\n",
       " Destination\n",
       " TRAPPIST-1e      5915\n",
       " 55 Cancri e      1800\n",
       " PSO J318.5-22     796\n",
       " Name: count, dtype: int64,\n",
       " VIP\n",
       " False    8291\n",
       " True      199\n",
       " Name: count, dtype: int64)"
      ]
     },
     "execution_count": 6,
     "metadata": {},
     "output_type": "execute_result"
    }
   ],
   "source": [
    "df.HomePlanet.value_counts(),df.Destination.value_counts(),df.VIP.value_counts()"
   ]
  },
  {
   "cell_type": "code",
   "execution_count": 7,
   "metadata": {},
   "outputs": [],
   "source": [
    "df.HomePlanet =  df.HomePlanet.map({\"Earth\": 0, \"Europa\": 1, \"Mars\":2})\n",
    "df.Destination = df.Destination.map({\"TRAPPIST-1e\": 0, \"55 Cancri e\": 1, \"PSO J318.5-22\":2})\n",
    "df.VIP = df.VIP.map({False: 0, True: 1})\n",
    "df.HomePlanet = df.HomePlanet.fillna(\"-1\")\n",
    "df.Destination = df.Destination.fillna(\"-1\")\n",
    "df.VIP = df.VIP.fillna(\"-1\")\n",
    "\n"
   ]
  },
  {
   "cell_type": "code",
   "execution_count": 8,
   "metadata": {},
   "outputs": [],
   "source": [
    "df.HomePlanet = df.HomePlanet.astype(float)\n",
    "df.Destination = df.Destination.astype(float)\n",
    "df.VIP = df.VIP.astype(float)\n",
    "\n",
    "df.loc[df.HomePlanet==-1, \"HomePlanet\"] = pd.NA\n",
    "df.loc[df.Destination==-1, \"Destination\"] = pd.NA\n",
    "df.loc[df.VIP==-1, \"VIP\"] = pd.NA\n"
   ]
  },
  {
   "cell_type": "code",
   "execution_count": 9,
   "metadata": {},
   "outputs": [],
   "source": [
    "from sklearn.impute import SimpleImputer, KNNImputer\n",
    "KNN_imputer_cat = KNNImputer(n_neighbors=1)\n",
    "imputer_categorical =  [\"HomePlanet\",\"Destination\",\"VIP\"]    # df.select_dtypes(include=['object'])\n",
    "\n",
    "X_KNN_cat = KNN_imputer_cat.fit_transform(df.HomePlanet.values.reshape(-1,1))\n",
    "df[imputer_categorical] = KNN_imputer_cat.fit_transform(df[imputer_categorical].values.reshape(-1,3))"
   ]
  },
  {
   "cell_type": "code",
   "execution_count": 10,
   "metadata": {},
   "outputs": [],
   "source": [
    "df.HomePlanet =  df.HomePlanet.map({ 0: \"Earth\", 1: \"Europa\", 2: \"Mars\"})\n",
    "df.Destination = df.Destination.map({ 0 : \"TRAPPIST-1e\", 1: \"55 Cancri e\" , 2: \"PSO J318.5-22\"})\n",
    "df.VIP = df.VIP.map({ 0 : False, 1: True})\n",
    "df.HomePlanet = df.HomePlanet.astype(object)\n",
    "df.Destination = df.Destination.astype(object)\n",
    "df.VIP = df.VIP.astype(bool)\n"
   ]
  },
  {
   "cell_type": "code",
   "execution_count": null,
   "metadata": {},
   "outputs": [
    {
     "data": {
      "text/plain": [
       "'\\nRoomService     181\\nFoodCourt       183\\nShoppingMall    208\\nSpa             183\\nVRDeck          188\\n'"
      ]
     },
     "execution_count": 15,
     "metadata": {},
     "output_type": "execute_result"
    }
   ],
   "source": [
    "df[\"age\"] = df[\"Age\"].fillna(df[\"Age\"].mean())\n",
    "df[\"RoomService\"] = df[\"RoomService\"].fillna(df[\"RoomService\"].mean())\n",
    "df[\"FoodCourt\"] = df[\"FoodCourt\"].fillna(df[\"FoodCourt\"].mean())\n",
    "df[\"ShoppingMall\"] = df[\"ShoppingMall\"].fillna(df[\"ShoppingMall\"].mean())\n",
    "df[\"Spa\"] = df[\"Spa\"].fillna(df[\"Spa\"].mean())\n",
    "df[\"VRDeck\"] = df[\"VRDeck\"].fillna(df[\"VRDeck\"].mean())\n"
   ]
  }
 ],
 "metadata": {
  "kernelspec": {
   "display_name": "space_titanic",
   "language": "python",
   "name": "python3"
  },
  "language_info": {
   "codemirror_mode": {
    "name": "ipython",
    "version": 3
   },
   "file_extension": ".py",
   "mimetype": "text/x-python",
   "name": "python",
   "nbconvert_exporter": "python",
   "pygments_lexer": "ipython3",
   "version": "3.10.12"
  }
 },
 "nbformat": 4,
 "nbformat_minor": 2
}
