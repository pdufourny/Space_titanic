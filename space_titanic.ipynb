{
 "cells": [
  {
   "cell_type": "code",
   "execution_count": 1,
   "metadata": {},
   "outputs": [
    {
     "name": "stdout",
     "output_type": "stream",
     "text": [
      "Datasets loaded successfully.\n"
     ]
    }
   ],
   "source": [
    "import pandas as pd\n",
    "\n",
    "# Load the datasets\n",
    "spacetitanic_train = pd.read_csv('data/train.csv')\n",
    "spacetitanic_test = pd.read_csv('data/test.csv')\n",
    "print(\"Datasets loaded successfully.\")"
   ]
  },
  {
   "cell_type": "code",
   "execution_count": 2,
   "metadata": {},
   "outputs": [
    {
     "data": {
      "text/html": [
       "<pre style=\"white-space:pre;overflow-x:auto;line-height:normal;font-family:Menlo,'DejaVu Sans Mono',consolas,'Courier New',monospace\">╭──────────────────────────────────────────────── skimpy summary ─────────────────────────────────────────────────╮\n",
       "│ <span style=\"font-style: italic\">         Data Summary         </span> <span style=\"font-style: italic\">      Data Types       </span>                                                          │\n",
       "│ ┏━━━━━━━━━━━━━━━━━━━┳━━━━━━━━┓ ┏━━━━━━━━━━━━━┳━━━━━━━┓                                                          │\n",
       "│ ┃<span style=\"color: #008080; text-decoration-color: #008080; font-weight: bold\"> Dataframe         </span>┃<span style=\"color: #008080; text-decoration-color: #008080; font-weight: bold\"> Values </span>┃ ┃<span style=\"color: #008080; text-decoration-color: #008080; font-weight: bold\"> Column Type </span>┃<span style=\"color: #008080; text-decoration-color: #008080; font-weight: bold\"> Count </span>┃                                                          │\n",
       "│ ┡━━━━━━━━━━━━━━━━━━━╇━━━━━━━━┩ ┡━━━━━━━━━━━━━╇━━━━━━━┩                                                          │\n",
       "│ │ Number of rows    │ 8693   │ │ float64     │ 6     │                                                          │\n",
       "│ │ Number of columns │ 14     │ │ string      │ 5     │                                                          │\n",
       "│ └───────────────────┴────────┘ │ bool        │ 3     │                                                          │\n",
       "│                                └─────────────┴───────┘                                                          │\n",
       "│ <span style=\"font-style: italic\">                                                    number                                                    </span>  │\n",
       "│ ┏━━━━━━━━━━━━━━━━┳━━━━━━┳━━━━━━━━━━━━━━━━━━━━━━━┳━━━━━━━━┳━━━━━━━━┳━━━━━┳━━━━━━┳━━━━━━┳━━━━━┳━━━━━━━┳━━━━━━━━┓  │\n",
       "│ ┃<span style=\"font-weight: bold\"> column         </span>┃<span style=\"font-weight: bold\"> NA   </span>┃<span style=\"font-weight: bold\"> NA %                  </span>┃<span style=\"font-weight: bold\"> mean   </span>┃<span style=\"font-weight: bold\"> sd     </span>┃<span style=\"font-weight: bold\"> p0  </span>┃<span style=\"font-weight: bold\"> p25  </span>┃<span style=\"font-weight: bold\"> p50  </span>┃<span style=\"font-weight: bold\"> p75 </span>┃<span style=\"font-weight: bold\"> p100  </span>┃<span style=\"font-weight: bold\"> hist   </span>┃  │\n",
       "│ ┡━━━━━━━━━━━━━━━━╇━━━━━━╇━━━━━━━━━━━━━━━━━━━━━━━╇━━━━━━━━╇━━━━━━━━╇━━━━━╇━━━━━━╇━━━━━━╇━━━━━╇━━━━━━━╇━━━━━━━━┩  │\n",
       "│ │ <span style=\"color: #af87ff; text-decoration-color: #af87ff\">Age           </span> │ <span style=\"color: #008080; text-decoration-color: #008080\"> 179</span> │ <span style=\"color: #008080; text-decoration-color: #008080\">   2.0591280340503855</span> │ <span style=\"color: #008080; text-decoration-color: #008080\"> 28.83</span> │ <span style=\"color: #008080; text-decoration-color: #008080\"> 14.49</span> │ <span style=\"color: #008080; text-decoration-color: #008080\">  0</span> │ <span style=\"color: #008080; text-decoration-color: #008080\">  19</span> │ <span style=\"color: #008080; text-decoration-color: #008080\">  27</span> │ <span style=\"color: #008080; text-decoration-color: #008080\"> 38</span> │ <span style=\"color: #008080; text-decoration-color: #008080\">   79</span> │ <span style=\"color: #008000; text-decoration-color: #008000\">▂█▆▃▁ </span> │  │\n",
       "│ │ <span style=\"color: #af87ff; text-decoration-color: #af87ff\">RoomService   </span> │ <span style=\"color: #008080; text-decoration-color: #008080\"> 181</span> │ <span style=\"color: #008080; text-decoration-color: #008080\">    2.082135051190613</span> │ <span style=\"color: #008080; text-decoration-color: #008080\"> 224.7</span> │ <span style=\"color: #008080; text-decoration-color: #008080\"> 666.7</span> │ <span style=\"color: #008080; text-decoration-color: #008080\">  0</span> │ <span style=\"color: #008080; text-decoration-color: #008080\">   0</span> │ <span style=\"color: #008080; text-decoration-color: #008080\">   0</span> │ <span style=\"color: #008080; text-decoration-color: #008080\"> 47</span> │ <span style=\"color: #008080; text-decoration-color: #008080\">14330</span> │ <span style=\"color: #008000; text-decoration-color: #008000\">  █   </span> │  │\n",
       "│ │ <span style=\"color: #af87ff; text-decoration-color: #af87ff\">FoodCourt     </span> │ <span style=\"color: #008080; text-decoration-color: #008080\"> 183</span> │ <span style=\"color: #008080; text-decoration-color: #008080\">    2.105142068330841</span> │ <span style=\"color: #008080; text-decoration-color: #008080\"> 458.1</span> │ <span style=\"color: #008080; text-decoration-color: #008080\">  1611</span> │ <span style=\"color: #008080; text-decoration-color: #008080\">  0</span> │ <span style=\"color: #008080; text-decoration-color: #008080\">   0</span> │ <span style=\"color: #008080; text-decoration-color: #008080\">   0</span> │ <span style=\"color: #008080; text-decoration-color: #008080\"> 76</span> │ <span style=\"color: #008080; text-decoration-color: #008080\">29810</span> │ <span style=\"color: #008000; text-decoration-color: #008000\">  █   </span> │  │\n",
       "│ │ <span style=\"color: #af87ff; text-decoration-color: #af87ff\">ShoppingMall  </span> │ <span style=\"color: #008080; text-decoration-color: #008080\"> 208</span> │ <span style=\"color: #008080; text-decoration-color: #008080\">    2.392729782583688</span> │ <span style=\"color: #008080; text-decoration-color: #008080\"> 173.7</span> │ <span style=\"color: #008080; text-decoration-color: #008080\"> 604.7</span> │ <span style=\"color: #008080; text-decoration-color: #008080\">  0</span> │ <span style=\"color: #008080; text-decoration-color: #008080\">   0</span> │ <span style=\"color: #008080; text-decoration-color: #008080\">   0</span> │ <span style=\"color: #008080; text-decoration-color: #008080\"> 27</span> │ <span style=\"color: #008080; text-decoration-color: #008080\">23490</span> │ <span style=\"color: #008000; text-decoration-color: #008000\">  █   </span> │  │\n",
       "│ │ <span style=\"color: #af87ff; text-decoration-color: #af87ff\">Spa           </span> │ <span style=\"color: #008080; text-decoration-color: #008080\"> 183</span> │ <span style=\"color: #008080; text-decoration-color: #008080\">    2.105142068330841</span> │ <span style=\"color: #008080; text-decoration-color: #008080\"> 311.1</span> │ <span style=\"color: #008080; text-decoration-color: #008080\">  1137</span> │ <span style=\"color: #008080; text-decoration-color: #008080\">  0</span> │ <span style=\"color: #008080; text-decoration-color: #008080\">   0</span> │ <span style=\"color: #008080; text-decoration-color: #008080\">   0</span> │ <span style=\"color: #008080; text-decoration-color: #008080\"> 59</span> │ <span style=\"color: #008080; text-decoration-color: #008080\">22410</span> │ <span style=\"color: #008000; text-decoration-color: #008000\">  █   </span> │  │\n",
       "│ │ <span style=\"color: #af87ff; text-decoration-color: #af87ff\">VRDeck        </span> │ <span style=\"color: #008080; text-decoration-color: #008080\"> 188</span> │ <span style=\"color: #008080; text-decoration-color: #008080\">   2.1626596111814105</span> │ <span style=\"color: #008080; text-decoration-color: #008080\"> 304.9</span> │ <span style=\"color: #008080; text-decoration-color: #008080\">  1146</span> │ <span style=\"color: #008080; text-decoration-color: #008080\">  0</span> │ <span style=\"color: #008080; text-decoration-color: #008080\">   0</span> │ <span style=\"color: #008080; text-decoration-color: #008080\">   0</span> │ <span style=\"color: #008080; text-decoration-color: #008080\"> 46</span> │ <span style=\"color: #008080; text-decoration-color: #008080\">24130</span> │ <span style=\"color: #008000; text-decoration-color: #008000\">  █   </span> │  │\n",
       "│ └────────────────┴──────┴───────────────────────┴────────┴────────┴─────┴──────┴──────┴─────┴───────┴────────┘  │\n",
       "│ <span style=\"font-style: italic\">                                                     bool                                                     </span>  │\n",
       "│ ┏━━━━━━━━━━━━━━━━━━━━━━━━━━━━━━━━━━━━┳━━━━━━━━━━━━━━━━━┳━━━━━━━━━━━━━━━━━━━━━━━━━━━━━━━┳━━━━━━━━━━━━━━━━━━━━━┓  │\n",
       "│ ┃<span style=\"font-weight: bold\"> column                             </span>┃<span style=\"font-weight: bold\"> true            </span>┃<span style=\"font-weight: bold\"> true rate                     </span>┃<span style=\"font-weight: bold\"> hist                </span>┃  │\n",
       "│ ┡━━━━━━━━━━━━━━━━━━━━━━━━━━━━━━━━━━━━╇━━━━━━━━━━━━━━━━━╇━━━━━━━━━━━━━━━━━━━━━━━━━━━━━━━╇━━━━━━━━━━━━━━━━━━━━━┩  │\n",
       "│ │ <span style=\"color: #af87ff; text-decoration-color: #af87ff\">CryoSleep                         </span> │ <span style=\"color: #008080; text-decoration-color: #008080\">           3254</span> │ <span style=\"color: #008080; text-decoration-color: #008080\">                         0.37</span> │ <span style=\"color: #008000; text-decoration-color: #008000\">      █    ▅       </span> │  │\n",
       "│ │ <span style=\"color: #af87ff; text-decoration-color: #af87ff\">VIP                               </span> │ <span style=\"color: #008080; text-decoration-color: #008080\">            402</span> │ <span style=\"color: #008080; text-decoration-color: #008080\">                        0.046</span> │ <span style=\"color: #008000; text-decoration-color: #008000\">         █         </span> │  │\n",
       "│ │ <span style=\"color: #af87ff; text-decoration-color: #af87ff\">Transported                       </span> │ <span style=\"color: #008080; text-decoration-color: #008080\">           4378</span> │ <span style=\"color: #008080; text-decoration-color: #008080\">                          0.5</span> │ <span style=\"color: #008000; text-decoration-color: #008000\">      █    █       </span> │  │\n",
       "│ └────────────────────────────────────┴─────────────────┴───────────────────────────────┴─────────────────────┘  │\n",
       "│ <span style=\"font-style: italic\">                                                    string                                                    </span>  │\n",
       "│ ┏━━━━━━━━━━┳━━━━━┳━━━━━━━━━━━┳━━━━━━━━━━┳━━━━━━━━━━━┳━━━━━━━━━━┳━━━━━━━━━━━┳━━━━━━━━━━┳━━━━━━━━━━━┳━━━━━━━━━━┓  │\n",
       "│ ┃<span style=\"font-weight: bold\">          </span>┃<span style=\"font-weight: bold\">     </span>┃<span style=\"font-weight: bold\">           </span>┃<span style=\"font-weight: bold\">          </span>┃<span style=\"font-weight: bold\">           </span>┃<span style=\"font-weight: bold\">          </span>┃<span style=\"font-weight: bold\">           </span>┃<span style=\"font-weight: bold\"> chars    </span>┃<span style=\"font-weight: bold\"> words per </span>┃<span style=\"font-weight: bold\"> total    </span>┃  │\n",
       "│ ┃<span style=\"font-weight: bold\"> column   </span>┃<span style=\"font-weight: bold\"> NA  </span>┃<span style=\"font-weight: bold\"> NA %      </span>┃<span style=\"font-weight: bold\"> shortest </span>┃<span style=\"font-weight: bold\"> longest   </span>┃<span style=\"font-weight: bold\"> min      </span>┃<span style=\"font-weight: bold\"> max       </span>┃<span style=\"font-weight: bold\"> per row  </span>┃<span style=\"font-weight: bold\"> row       </span>┃<span style=\"font-weight: bold\"> words    </span>┃  │\n",
       "│ ┡━━━━━━━━━━╇━━━━━╇━━━━━━━━━━━╇━━━━━━━━━━╇━━━━━━━━━━━╇━━━━━━━━━━╇━━━━━━━━━━━╇━━━━━━━━━━╇━━━━━━━━━━━╇━━━━━━━━━━┩  │\n",
       "│ │ <span style=\"color: #af87ff; text-decoration-color: #af87ff\">Passenge</span> │ <span style=\"color: #008080; text-decoration-color: #008080\">  0</span> │ <span style=\"color: #008080; text-decoration-color: #008080\">        0</span> │ <span style=\"color: #af87ff; text-decoration-color: #af87ff\">0001_01 </span> │ <span style=\"color: #af87ff; text-decoration-color: #af87ff\">0001_01  </span> │ <span style=\"color: #af87ff; text-decoration-color: #af87ff\">0001_01 </span> │ <span style=\"color: #af87ff; text-decoration-color: #af87ff\">9280_02  </span> │ <span style=\"color: #008080; text-decoration-color: #008080\">       7</span> │ <span style=\"color: #008080; text-decoration-color: #008080\">        1</span> │ <span style=\"color: #008080; text-decoration-color: #008080\">    8693</span> │  │\n",
       "│ │ <span style=\"color: #af87ff; text-decoration-color: #af87ff\">rId     </span> │     │           │          │           │          │           │          │           │          │  │\n",
       "│ │ <span style=\"color: #af87ff; text-decoration-color: #af87ff\">HomePlan</span> │ <span style=\"color: #008080; text-decoration-color: #008080\">201</span> │ <span style=\"color: #008080; text-decoration-color: #008080\">2.3122052</span> │ <span style=\"color: #af87ff; text-decoration-color: #af87ff\">Mars    </span> │ <span style=\"color: #af87ff; text-decoration-color: #af87ff\">Europa   </span> │ <span style=\"color: #af87ff; text-decoration-color: #af87ff\">Earth   </span> │ <span style=\"color: #af87ff; text-decoration-color: #af87ff\">Mars     </span> │ <span style=\"color: #008080; text-decoration-color: #008080\">    5.04</span> │ <span style=\"color: #008080; text-decoration-color: #008080\">     0.98</span> │ <span style=\"color: #008080; text-decoration-color: #008080\">    8492</span> │  │\n",
       "│ │ <span style=\"color: #af87ff; text-decoration-color: #af87ff\">et      </span> │     │ <span style=\"color: #008080; text-decoration-color: #008080\"> 22592891</span> │          │           │          │           │          │           │          │  │\n",
       "│ │ <span style=\"color: #af87ff; text-decoration-color: #af87ff\">Cabin   </span> │ <span style=\"color: #008080; text-decoration-color: #008080\">199</span> │ <span style=\"color: #008080; text-decoration-color: #008080\">2.2891982</span> │ <span style=\"color: #af87ff; text-decoration-color: #af87ff\">B/0/P   </span> │ <span style=\"color: #af87ff; text-decoration-color: #af87ff\">F/1000/P </span> │ <span style=\"color: #af87ff; text-decoration-color: #af87ff\">A/0/P   </span> │ <span style=\"color: #af87ff; text-decoration-color: #af87ff\">T/3/P    </span> │ <span style=\"color: #008080; text-decoration-color: #008080\">    7.08</span> │ <span style=\"color: #008080; text-decoration-color: #008080\">     0.98</span> │ <span style=\"color: #008080; text-decoration-color: #008080\">    8494</span> │  │\n",
       "│ │          │     │ <span style=\"color: #008080; text-decoration-color: #008080\"> 05452663</span> │          │           │          │           │          │           │          │  │\n",
       "│ │ <span style=\"color: #af87ff; text-decoration-color: #af87ff\">Destinat</span> │ <span style=\"color: #008080; text-decoration-color: #008080\">182</span> │ <span style=\"color: #008080; text-decoration-color: #008080\">2.0936385</span> │ <span style=\"color: #af87ff; text-decoration-color: #af87ff\">TRAPPIST</span> │ <span style=\"color: #af87ff; text-decoration-color: #af87ff\">PSO      </span> │ <span style=\"color: #af87ff; text-decoration-color: #af87ff\">55      </span> │ <span style=\"color: #af87ff; text-decoration-color: #af87ff\">TRAPPIST-</span> │ <span style=\"color: #008080; text-decoration-color: #008080\">    11.2</span> │ <span style=\"color: #008080; text-decoration-color: #008080\">      1.5</span> │ <span style=\"color: #008080; text-decoration-color: #008080\">   12907</span> │  │\n",
       "│ │ <span style=\"color: #af87ff; text-decoration-color: #af87ff\">ion     </span> │     │ <span style=\"color: #008080; text-decoration-color: #008080\"> 59760727</span> │ <span style=\"color: #af87ff; text-decoration-color: #af87ff\">-1e     </span> │ <span style=\"color: #af87ff; text-decoration-color: #af87ff\">J318.5-22</span> │ <span style=\"color: #af87ff; text-decoration-color: #af87ff\">Cancri e</span> │ <span style=\"color: #af87ff; text-decoration-color: #af87ff\">1e       </span> │          │           │          │  │\n",
       "│ │ <span style=\"color: #af87ff; text-decoration-color: #af87ff\">Name    </span> │ <span style=\"color: #008080; text-decoration-color: #008080\">200</span> │ <span style=\"color: #008080; text-decoration-color: #008080\">2.3007017</span> │ <span style=\"color: #af87ff; text-decoration-color: #af87ff\">Sps Raf </span> │ <span style=\"color: #af87ff; text-decoration-color: #af87ff\">Billex   </span> │ <span style=\"color: #af87ff; text-decoration-color: #af87ff\">Aard    </span> │ <span style=\"color: #af87ff; text-decoration-color: #af87ff\">Zubeneb  </span> │ <span style=\"color: #008080; text-decoration-color: #008080\">    13.8</span> │ <span style=\"color: #008080; text-decoration-color: #008080\">        2</span> │ <span style=\"color: #008080; text-decoration-color: #008080\">   16986</span> │  │\n",
       "│ │          │     │ <span style=\"color: #008080; text-decoration-color: #008080\"> 14022777</span> │          │ <span style=\"color: #af87ff; text-decoration-color: #af87ff\">Jacostaff</span> │ <span style=\"color: #af87ff; text-decoration-color: #af87ff\">Curle   </span> │ <span style=\"color: #af87ff; text-decoration-color: #af87ff\">Pasharne </span> │          │           │          │  │\n",
       "│ │          │     │           │          │ <span style=\"color: #af87ff; text-decoration-color: #af87ff\">ey       </span> │          │           │          │           │          │  │\n",
       "│ └──────────┴─────┴───────────┴──────────┴───────────┴──────────┴───────────┴──────────┴───────────┴──────────┘  │\n",
       "╰────────────────────────────────────────────────────── End ──────────────────────────────────────────────────────╯\n",
       "</pre>\n"
      ],
      "text/plain": [
       "╭──────────────────────────────────────────────── skimpy summary ─────────────────────────────────────────────────╮\n",
       "│ \u001b[3m         Data Summary         \u001b[0m \u001b[3m      Data Types       \u001b[0m                                                          │\n",
       "│ ┏━━━━━━━━━━━━━━━━━━━┳━━━━━━━━┓ ┏━━━━━━━━━━━━━┳━━━━━━━┓                                                          │\n",
       "│ ┃\u001b[1;36m \u001b[0m\u001b[1;36mDataframe        \u001b[0m\u001b[1;36m \u001b[0m┃\u001b[1;36m \u001b[0m\u001b[1;36mValues\u001b[0m\u001b[1;36m \u001b[0m┃ ┃\u001b[1;36m \u001b[0m\u001b[1;36mColumn Type\u001b[0m\u001b[1;36m \u001b[0m┃\u001b[1;36m \u001b[0m\u001b[1;36mCount\u001b[0m\u001b[1;36m \u001b[0m┃                                                          │\n",
       "│ ┡━━━━━━━━━━━━━━━━━━━╇━━━━━━━━┩ ┡━━━━━━━━━━━━━╇━━━━━━━┩                                                          │\n",
       "│ │ Number of rows    │ 8693   │ │ float64     │ 6     │                                                          │\n",
       "│ │ Number of columns │ 14     │ │ string      │ 5     │                                                          │\n",
       "│ └───────────────────┴────────┘ │ bool        │ 3     │                                                          │\n",
       "│                                └─────────────┴───────┘                                                          │\n",
       "│ \u001b[3m                                                    number                                                    \u001b[0m  │\n",
       "│ ┏━━━━━━━━━━━━━━━━┳━━━━━━┳━━━━━━━━━━━━━━━━━━━━━━━┳━━━━━━━━┳━━━━━━━━┳━━━━━┳━━━━━━┳━━━━━━┳━━━━━┳━━━━━━━┳━━━━━━━━┓  │\n",
       "│ ┃\u001b[1m \u001b[0m\u001b[1mcolumn        \u001b[0m\u001b[1m \u001b[0m┃\u001b[1m \u001b[0m\u001b[1mNA  \u001b[0m\u001b[1m \u001b[0m┃\u001b[1m \u001b[0m\u001b[1mNA %                 \u001b[0m\u001b[1m \u001b[0m┃\u001b[1m \u001b[0m\u001b[1mmean  \u001b[0m\u001b[1m \u001b[0m┃\u001b[1m \u001b[0m\u001b[1msd    \u001b[0m\u001b[1m \u001b[0m┃\u001b[1m \u001b[0m\u001b[1mp0 \u001b[0m\u001b[1m \u001b[0m┃\u001b[1m \u001b[0m\u001b[1mp25 \u001b[0m\u001b[1m \u001b[0m┃\u001b[1m \u001b[0m\u001b[1mp50 \u001b[0m\u001b[1m \u001b[0m┃\u001b[1m \u001b[0m\u001b[1mp75\u001b[0m\u001b[1m \u001b[0m┃\u001b[1m \u001b[0m\u001b[1mp100 \u001b[0m\u001b[1m \u001b[0m┃\u001b[1m \u001b[0m\u001b[1mhist  \u001b[0m\u001b[1m \u001b[0m┃  │\n",
       "│ ┡━━━━━━━━━━━━━━━━╇━━━━━━╇━━━━━━━━━━━━━━━━━━━━━━━╇━━━━━━━━╇━━━━━━━━╇━━━━━╇━━━━━━╇━━━━━━╇━━━━━╇━━━━━━━╇━━━━━━━━┩  │\n",
       "│ │ \u001b[38;5;141mAge           \u001b[0m │ \u001b[36m 179\u001b[0m │ \u001b[36m   2.0591280340503855\u001b[0m │ \u001b[36m 28.83\u001b[0m │ \u001b[36m 14.49\u001b[0m │ \u001b[36m  0\u001b[0m │ \u001b[36m  19\u001b[0m │ \u001b[36m  27\u001b[0m │ \u001b[36m 38\u001b[0m │ \u001b[36m   79\u001b[0m │ \u001b[32m▂█▆▃▁ \u001b[0m │  │\n",
       "│ │ \u001b[38;5;141mRoomService   \u001b[0m │ \u001b[36m 181\u001b[0m │ \u001b[36m    2.082135051190613\u001b[0m │ \u001b[36m 224.7\u001b[0m │ \u001b[36m 666.7\u001b[0m │ \u001b[36m  0\u001b[0m │ \u001b[36m   0\u001b[0m │ \u001b[36m   0\u001b[0m │ \u001b[36m 47\u001b[0m │ \u001b[36m14330\u001b[0m │ \u001b[32m  █   \u001b[0m │  │\n",
       "│ │ \u001b[38;5;141mFoodCourt     \u001b[0m │ \u001b[36m 183\u001b[0m │ \u001b[36m    2.105142068330841\u001b[0m │ \u001b[36m 458.1\u001b[0m │ \u001b[36m  1611\u001b[0m │ \u001b[36m  0\u001b[0m │ \u001b[36m   0\u001b[0m │ \u001b[36m   0\u001b[0m │ \u001b[36m 76\u001b[0m │ \u001b[36m29810\u001b[0m │ \u001b[32m  █   \u001b[0m │  │\n",
       "│ │ \u001b[38;5;141mShoppingMall  \u001b[0m │ \u001b[36m 208\u001b[0m │ \u001b[36m    2.392729782583688\u001b[0m │ \u001b[36m 173.7\u001b[0m │ \u001b[36m 604.7\u001b[0m │ \u001b[36m  0\u001b[0m │ \u001b[36m   0\u001b[0m │ \u001b[36m   0\u001b[0m │ \u001b[36m 27\u001b[0m │ \u001b[36m23490\u001b[0m │ \u001b[32m  █   \u001b[0m │  │\n",
       "│ │ \u001b[38;5;141mSpa           \u001b[0m │ \u001b[36m 183\u001b[0m │ \u001b[36m    2.105142068330841\u001b[0m │ \u001b[36m 311.1\u001b[0m │ \u001b[36m  1137\u001b[0m │ \u001b[36m  0\u001b[0m │ \u001b[36m   0\u001b[0m │ \u001b[36m   0\u001b[0m │ \u001b[36m 59\u001b[0m │ \u001b[36m22410\u001b[0m │ \u001b[32m  █   \u001b[0m │  │\n",
       "│ │ \u001b[38;5;141mVRDeck        \u001b[0m │ \u001b[36m 188\u001b[0m │ \u001b[36m   2.1626596111814105\u001b[0m │ \u001b[36m 304.9\u001b[0m │ \u001b[36m  1146\u001b[0m │ \u001b[36m  0\u001b[0m │ \u001b[36m   0\u001b[0m │ \u001b[36m   0\u001b[0m │ \u001b[36m 46\u001b[0m │ \u001b[36m24130\u001b[0m │ \u001b[32m  █   \u001b[0m │  │\n",
       "│ └────────────────┴──────┴───────────────────────┴────────┴────────┴─────┴──────┴──────┴─────┴───────┴────────┘  │\n",
       "│ \u001b[3m                                                     bool                                                     \u001b[0m  │\n",
       "│ ┏━━━━━━━━━━━━━━━━━━━━━━━━━━━━━━━━━━━━┳━━━━━━━━━━━━━━━━━┳━━━━━━━━━━━━━━━━━━━━━━━━━━━━━━━┳━━━━━━━━━━━━━━━━━━━━━┓  │\n",
       "│ ┃\u001b[1m \u001b[0m\u001b[1mcolumn                            \u001b[0m\u001b[1m \u001b[0m┃\u001b[1m \u001b[0m\u001b[1mtrue           \u001b[0m\u001b[1m \u001b[0m┃\u001b[1m \u001b[0m\u001b[1mtrue rate                    \u001b[0m\u001b[1m \u001b[0m┃\u001b[1m \u001b[0m\u001b[1mhist               \u001b[0m\u001b[1m \u001b[0m┃  │\n",
       "│ ┡━━━━━━━━━━━━━━━━━━━━━━━━━━━━━━━━━━━━╇━━━━━━━━━━━━━━━━━╇━━━━━━━━━━━━━━━━━━━━━━━━━━━━━━━╇━━━━━━━━━━━━━━━━━━━━━┩  │\n",
       "│ │ \u001b[38;5;141mCryoSleep                         \u001b[0m │ \u001b[36m           3254\u001b[0m │ \u001b[36m                         0.37\u001b[0m │ \u001b[32m      █    ▅       \u001b[0m │  │\n",
       "│ │ \u001b[38;5;141mVIP                               \u001b[0m │ \u001b[36m            402\u001b[0m │ \u001b[36m                        0.046\u001b[0m │ \u001b[32m         █         \u001b[0m │  │\n",
       "│ │ \u001b[38;5;141mTransported                       \u001b[0m │ \u001b[36m           4378\u001b[0m │ \u001b[36m                          0.5\u001b[0m │ \u001b[32m      █    █       \u001b[0m │  │\n",
       "│ └────────────────────────────────────┴─────────────────┴───────────────────────────────┴─────────────────────┘  │\n",
       "│ \u001b[3m                                                    string                                                    \u001b[0m  │\n",
       "│ ┏━━━━━━━━━━┳━━━━━┳━━━━━━━━━━━┳━━━━━━━━━━┳━━━━━━━━━━━┳━━━━━━━━━━┳━━━━━━━━━━━┳━━━━━━━━━━┳━━━━━━━━━━━┳━━━━━━━━━━┓  │\n",
       "│ ┃\u001b[1m          \u001b[0m┃\u001b[1m     \u001b[0m┃\u001b[1m           \u001b[0m┃\u001b[1m          \u001b[0m┃\u001b[1m           \u001b[0m┃\u001b[1m          \u001b[0m┃\u001b[1m           \u001b[0m┃\u001b[1m \u001b[0m\u001b[1mchars   \u001b[0m\u001b[1m \u001b[0m┃\u001b[1m \u001b[0m\u001b[1mwords per\u001b[0m\u001b[1m \u001b[0m┃\u001b[1m \u001b[0m\u001b[1mtotal   \u001b[0m\u001b[1m \u001b[0m┃  │\n",
       "│ ┃\u001b[1m \u001b[0m\u001b[1mcolumn  \u001b[0m\u001b[1m \u001b[0m┃\u001b[1m \u001b[0m\u001b[1mNA \u001b[0m\u001b[1m \u001b[0m┃\u001b[1m \u001b[0m\u001b[1mNA %     \u001b[0m\u001b[1m \u001b[0m┃\u001b[1m \u001b[0m\u001b[1mshortest\u001b[0m\u001b[1m \u001b[0m┃\u001b[1m \u001b[0m\u001b[1mlongest  \u001b[0m\u001b[1m \u001b[0m┃\u001b[1m \u001b[0m\u001b[1mmin     \u001b[0m\u001b[1m \u001b[0m┃\u001b[1m \u001b[0m\u001b[1mmax      \u001b[0m\u001b[1m \u001b[0m┃\u001b[1m \u001b[0m\u001b[1mper row \u001b[0m\u001b[1m \u001b[0m┃\u001b[1m \u001b[0m\u001b[1mrow      \u001b[0m\u001b[1m \u001b[0m┃\u001b[1m \u001b[0m\u001b[1mwords   \u001b[0m\u001b[1m \u001b[0m┃  │\n",
       "│ ┡━━━━━━━━━━╇━━━━━╇━━━━━━━━━━━╇━━━━━━━━━━╇━━━━━━━━━━━╇━━━━━━━━━━╇━━━━━━━━━━━╇━━━━━━━━━━╇━━━━━━━━━━━╇━━━━━━━━━━┩  │\n",
       "│ │ \u001b[38;5;141mPassenge\u001b[0m │ \u001b[36m  0\u001b[0m │ \u001b[36m        0\u001b[0m │ \u001b[38;5;141m0001_01 \u001b[0m │ \u001b[38;5;141m0001_01  \u001b[0m │ \u001b[38;5;141m0001_01 \u001b[0m │ \u001b[38;5;141m9280_02  \u001b[0m │ \u001b[36m       7\u001b[0m │ \u001b[36m        1\u001b[0m │ \u001b[36m    8693\u001b[0m │  │\n",
       "│ │ \u001b[38;5;141mrId     \u001b[0m │     │           │          │           │          │           │          │           │          │  │\n",
       "│ │ \u001b[38;5;141mHomePlan\u001b[0m │ \u001b[36m201\u001b[0m │ \u001b[36m2.3122052\u001b[0m │ \u001b[38;5;141mMars    \u001b[0m │ \u001b[38;5;141mEuropa   \u001b[0m │ \u001b[38;5;141mEarth   \u001b[0m │ \u001b[38;5;141mMars     \u001b[0m │ \u001b[36m    5.04\u001b[0m │ \u001b[36m     0.98\u001b[0m │ \u001b[36m    8492\u001b[0m │  │\n",
       "│ │ \u001b[38;5;141met      \u001b[0m │     │ \u001b[36m 22592891\u001b[0m │          │           │          │           │          │           │          │  │\n",
       "│ │ \u001b[38;5;141mCabin   \u001b[0m │ \u001b[36m199\u001b[0m │ \u001b[36m2.2891982\u001b[0m │ \u001b[38;5;141mB/0/P   \u001b[0m │ \u001b[38;5;141mF/1000/P \u001b[0m │ \u001b[38;5;141mA/0/P   \u001b[0m │ \u001b[38;5;141mT/3/P    \u001b[0m │ \u001b[36m    7.08\u001b[0m │ \u001b[36m     0.98\u001b[0m │ \u001b[36m    8494\u001b[0m │  │\n",
       "│ │          │     │ \u001b[36m 05452663\u001b[0m │          │           │          │           │          │           │          │  │\n",
       "│ │ \u001b[38;5;141mDestinat\u001b[0m │ \u001b[36m182\u001b[0m │ \u001b[36m2.0936385\u001b[0m │ \u001b[38;5;141mTRAPPIST\u001b[0m │ \u001b[38;5;141mPSO      \u001b[0m │ \u001b[38;5;141m55      \u001b[0m │ \u001b[38;5;141mTRAPPIST-\u001b[0m │ \u001b[36m    11.2\u001b[0m │ \u001b[36m      1.5\u001b[0m │ \u001b[36m   12907\u001b[0m │  │\n",
       "│ │ \u001b[38;5;141mion     \u001b[0m │     │ \u001b[36m 59760727\u001b[0m │ \u001b[38;5;141m-1e     \u001b[0m │ \u001b[38;5;141mJ318.5-22\u001b[0m │ \u001b[38;5;141mCancri e\u001b[0m │ \u001b[38;5;141m1e       \u001b[0m │          │           │          │  │\n",
       "│ │ \u001b[38;5;141mName    \u001b[0m │ \u001b[36m200\u001b[0m │ \u001b[36m2.3007017\u001b[0m │ \u001b[38;5;141mSps Raf \u001b[0m │ \u001b[38;5;141mBillex   \u001b[0m │ \u001b[38;5;141mAard    \u001b[0m │ \u001b[38;5;141mZubeneb  \u001b[0m │ \u001b[36m    13.8\u001b[0m │ \u001b[36m        2\u001b[0m │ \u001b[36m   16986\u001b[0m │  │\n",
       "│ │          │     │ \u001b[36m 14022777\u001b[0m │          │ \u001b[38;5;141mJacostaff\u001b[0m │ \u001b[38;5;141mCurle   \u001b[0m │ \u001b[38;5;141mPasharne \u001b[0m │          │           │          │  │\n",
       "│ │          │     │           │          │ \u001b[38;5;141mey       \u001b[0m │          │           │          │           │          │  │\n",
       "│ └──────────┴─────┴───────────┴──────────┴───────────┴──────────┴───────────┴──────────┴───────────┴──────────┘  │\n",
       "╰────────────────────────────────────────────────────── End ──────────────────────────────────────────────────────╯\n"
      ]
     },
     "metadata": {},
     "output_type": "display_data"
    }
   ],
   "source": [
    "from skimpy import skim\n",
    "\n",
    "skim(spacetitanic_train)"
   ]
  },
  {
   "cell_type": "code",
   "execution_count": 3,
   "metadata": {},
   "outputs": [
    {
     "data": {
      "text/html": [
       "<pre style=\"white-space:pre;overflow-x:auto;line-height:normal;font-family:Menlo,'DejaVu Sans Mono',consolas,'Courier New',monospace\">╭──────────────────────────────────────────────── skimpy summary ─────────────────────────────────────────────────╮\n",
       "│ <span style=\"font-style: italic\">         Data Summary         </span> <span style=\"font-style: italic\">      Data Types       </span>                                                          │\n",
       "│ ┏━━━━━━━━━━━━━━━━━━━┳━━━━━━━━┓ ┏━━━━━━━━━━━━━┳━━━━━━━┓                                                          │\n",
       "│ ┃<span style=\"color: #008080; text-decoration-color: #008080; font-weight: bold\"> Dataframe         </span>┃<span style=\"color: #008080; text-decoration-color: #008080; font-weight: bold\"> Values </span>┃ ┃<span style=\"color: #008080; text-decoration-color: #008080; font-weight: bold\"> Column Type </span>┃<span style=\"color: #008080; text-decoration-color: #008080; font-weight: bold\"> Count </span>┃                                                          │\n",
       "│ ┡━━━━━━━━━━━━━━━━━━━╇━━━━━━━━┩ ┡━━━━━━━━━━━━━╇━━━━━━━┩                                                          │\n",
       "│ │ Number of rows    │ 4277   │ │ float64     │ 6     │                                                          │\n",
       "│ │ Number of columns │ 13     │ │ string      │ 5     │                                                          │\n",
       "│ └───────────────────┴────────┘ │ bool        │ 2     │                                                          │\n",
       "│                                └─────────────┴───────┘                                                          │\n",
       "│ <span style=\"font-style: italic\">                                                    number                                                    </span>  │\n",
       "│ ┏━━━━━━━━━━━━━━━━┳━━━━━━┳━━━━━━━━━━━━━━━━━━━━━━━┳━━━━━━━━┳━━━━━━━━┳━━━━━┳━━━━━━┳━━━━━━┳━━━━━┳━━━━━━━┳━━━━━━━━┓  │\n",
       "│ ┃<span style=\"font-weight: bold\"> column         </span>┃<span style=\"font-weight: bold\"> NA   </span>┃<span style=\"font-weight: bold\"> NA %                  </span>┃<span style=\"font-weight: bold\"> mean   </span>┃<span style=\"font-weight: bold\"> sd     </span>┃<span style=\"font-weight: bold\"> p0  </span>┃<span style=\"font-weight: bold\"> p25  </span>┃<span style=\"font-weight: bold\"> p50  </span>┃<span style=\"font-weight: bold\"> p75 </span>┃<span style=\"font-weight: bold\"> p100  </span>┃<span style=\"font-weight: bold\"> hist   </span>┃  │\n",
       "│ ┡━━━━━━━━━━━━━━━━╇━━━━━━╇━━━━━━━━━━━━━━━━━━━━━━━╇━━━━━━━━╇━━━━━━━━╇━━━━━╇━━━━━━╇━━━━━━╇━━━━━╇━━━━━━━╇━━━━━━━━┩  │\n",
       "│ │ <span style=\"color: #af87ff; text-decoration-color: #af87ff\">Age           </span> │ <span style=\"color: #008080; text-decoration-color: #008080\">  91</span> │ <span style=\"color: #008080; text-decoration-color: #008080\">    2.127659574468085</span> │ <span style=\"color: #008080; text-decoration-color: #008080\"> 28.66</span> │ <span style=\"color: #008080; text-decoration-color: #008080\"> 14.18</span> │ <span style=\"color: #008080; text-decoration-color: #008080\">  0</span> │ <span style=\"color: #008080; text-decoration-color: #008080\">  19</span> │ <span style=\"color: #008080; text-decoration-color: #008080\">  26</span> │ <span style=\"color: #008080; text-decoration-color: #008080\"> 37</span> │ <span style=\"color: #008080; text-decoration-color: #008080\">   79</span> │ <span style=\"color: #008000; text-decoration-color: #008000\">▂█▅▃▁ </span> │  │\n",
       "│ │ <span style=\"color: #af87ff; text-decoration-color: #af87ff\">RoomService   </span> │ <span style=\"color: #008080; text-decoration-color: #008080\">  82</span> │ <span style=\"color: #008080; text-decoration-color: #008080\">    1.917231704465747</span> │ <span style=\"color: #008080; text-decoration-color: #008080\"> 219.3</span> │ <span style=\"color: #008080; text-decoration-color: #008080\">   607</span> │ <span style=\"color: #008080; text-decoration-color: #008080\">  0</span> │ <span style=\"color: #008080; text-decoration-color: #008080\">   0</span> │ <span style=\"color: #008080; text-decoration-color: #008080\">   0</span> │ <span style=\"color: #008080; text-decoration-color: #008080\"> 53</span> │ <span style=\"color: #008080; text-decoration-color: #008080\">11570</span> │ <span style=\"color: #008000; text-decoration-color: #008000\">  █   </span> │  │\n",
       "│ │ <span style=\"color: #af87ff; text-decoration-color: #af87ff\">FoodCourt     </span> │ <span style=\"color: #008080; text-decoration-color: #008080\"> 106</span> │ <span style=\"color: #008080; text-decoration-color: #008080\">   2.4783726911386488</span> │ <span style=\"color: #008080; text-decoration-color: #008080\"> 439.5</span> │ <span style=\"color: #008080; text-decoration-color: #008080\">  1528</span> │ <span style=\"color: #008080; text-decoration-color: #008080\">  0</span> │ <span style=\"color: #008080; text-decoration-color: #008080\">   0</span> │ <span style=\"color: #008080; text-decoration-color: #008080\">   0</span> │ <span style=\"color: #008080; text-decoration-color: #008080\"> 78</span> │ <span style=\"color: #008080; text-decoration-color: #008080\">25270</span> │ <span style=\"color: #008000; text-decoration-color: #008000\">  █   </span> │  │\n",
       "│ │ <span style=\"color: #af87ff; text-decoration-color: #af87ff\">ShoppingMall  </span> │ <span style=\"color: #008080; text-decoration-color: #008080\">  98</span> │ <span style=\"color: #008080; text-decoration-color: #008080\">   2.2913256955810146</span> │ <span style=\"color: #008080; text-decoration-color: #008080\"> 177.3</span> │ <span style=\"color: #008080; text-decoration-color: #008080\"> 560.8</span> │ <span style=\"color: #008080; text-decoration-color: #008080\">  0</span> │ <span style=\"color: #008080; text-decoration-color: #008080\">   0</span> │ <span style=\"color: #008080; text-decoration-color: #008080\">   0</span> │ <span style=\"color: #008080; text-decoration-color: #008080\"> 33</span> │ <span style=\"color: #008080; text-decoration-color: #008080\"> 8292</span> │ <span style=\"color: #008000; text-decoration-color: #008000\">  █   </span> │  │\n",
       "│ │ <span style=\"color: #af87ff; text-decoration-color: #af87ff\">Spa           </span> │ <span style=\"color: #008080; text-decoration-color: #008080\"> 101</span> │ <span style=\"color: #008080; text-decoration-color: #008080\">   2.3614683189151275</span> │ <span style=\"color: #008080; text-decoration-color: #008080\"> 303.1</span> │ <span style=\"color: #008080; text-decoration-color: #008080\">  1117</span> │ <span style=\"color: #008080; text-decoration-color: #008080\">  0</span> │ <span style=\"color: #008080; text-decoration-color: #008080\">   0</span> │ <span style=\"color: #008080; text-decoration-color: #008080\">   0</span> │ <span style=\"color: #008080; text-decoration-color: #008080\"> 50</span> │ <span style=\"color: #008080; text-decoration-color: #008080\">19840</span> │ <span style=\"color: #008000; text-decoration-color: #008000\">  █   </span> │  │\n",
       "│ │ <span style=\"color: #af87ff; text-decoration-color: #af87ff\">VRDeck        </span> │ <span style=\"color: #008080; text-decoration-color: #008080\">  80</span> │ <span style=\"color: #008080; text-decoration-color: #008080\">   1.8704699555763387</span> │ <span style=\"color: #008080; text-decoration-color: #008080\"> 310.7</span> │ <span style=\"color: #008080; text-decoration-color: #008080\">  1247</span> │ <span style=\"color: #008080; text-decoration-color: #008080\">  0</span> │ <span style=\"color: #008080; text-decoration-color: #008080\">   0</span> │ <span style=\"color: #008080; text-decoration-color: #008080\">   0</span> │ <span style=\"color: #008080; text-decoration-color: #008080\"> 36</span> │ <span style=\"color: #008080; text-decoration-color: #008080\">22270</span> │ <span style=\"color: #008000; text-decoration-color: #008000\">  █   </span> │  │\n",
       "│ └────────────────┴──────┴───────────────────────┴────────┴────────┴─────┴──────┴──────┴─────┴───────┴────────┘  │\n",
       "│ <span style=\"font-style: italic\">                                                     bool                                                     </span>  │\n",
       "│ ┏━━━━━━━━━━━━━━━━━━━━━━━━━━━━━━━━━┳━━━━━━━━━━━━━━━━━━┳━━━━━━━━━━━━━━━━━━━━━━━━━━━━━━━━┳━━━━━━━━━━━━━━━━━━━━━━┓  │\n",
       "│ ┃<span style=\"font-weight: bold\"> column                          </span>┃<span style=\"font-weight: bold\"> true             </span>┃<span style=\"font-weight: bold\"> true rate                      </span>┃<span style=\"font-weight: bold\"> hist                 </span>┃  │\n",
       "│ ┡━━━━━━━━━━━━━━━━━━━━━━━━━━━━━━━━━╇━━━━━━━━━━━━━━━━━━╇━━━━━━━━━━━━━━━━━━━━━━━━━━━━━━━━╇━━━━━━━━━━━━━━━━━━━━━━┩  │\n",
       "│ │ <span style=\"color: #af87ff; text-decoration-color: #af87ff\">CryoSleep                      </span> │ <span style=\"color: #008080; text-decoration-color: #008080\">            1637</span> │ <span style=\"color: #008080; text-decoration-color: #008080\">                          0.38</span> │ <span style=\"color: #008000; text-decoration-color: #008000\">       █    ▅       </span> │  │\n",
       "│ │ <span style=\"color: #af87ff; text-decoration-color: #af87ff\">VIP                            </span> │ <span style=\"color: #008080; text-decoration-color: #008080\">             167</span> │ <span style=\"color: #008080; text-decoration-color: #008080\">                         0.039</span> │ <span style=\"color: #008000; text-decoration-color: #008000\">         █          </span> │  │\n",
       "│ └─────────────────────────────────┴──────────────────┴────────────────────────────────┴──────────────────────┘  │\n",
       "│ <span style=\"font-style: italic\">                                                    string                                                    </span>  │\n",
       "│ ┏━━━━━━━━━━┳━━━━━┳━━━━━━━━━━━┳━━━━━━━━━━┳━━━━━━━━━━━┳━━━━━━━━━━┳━━━━━━━━━━━┳━━━━━━━━━━┳━━━━━━━━━━━┳━━━━━━━━━━┓  │\n",
       "│ ┃<span style=\"font-weight: bold\">          </span>┃<span style=\"font-weight: bold\">     </span>┃<span style=\"font-weight: bold\">           </span>┃<span style=\"font-weight: bold\">          </span>┃<span style=\"font-weight: bold\">           </span>┃<span style=\"font-weight: bold\">          </span>┃<span style=\"font-weight: bold\">           </span>┃<span style=\"font-weight: bold\"> chars    </span>┃<span style=\"font-weight: bold\"> words per </span>┃<span style=\"font-weight: bold\"> total    </span>┃  │\n",
       "│ ┃<span style=\"font-weight: bold\"> column   </span>┃<span style=\"font-weight: bold\"> NA  </span>┃<span style=\"font-weight: bold\"> NA %      </span>┃<span style=\"font-weight: bold\"> shortest </span>┃<span style=\"font-weight: bold\"> longest   </span>┃<span style=\"font-weight: bold\"> min      </span>┃<span style=\"font-weight: bold\"> max       </span>┃<span style=\"font-weight: bold\"> per row  </span>┃<span style=\"font-weight: bold\"> row       </span>┃<span style=\"font-weight: bold\"> words    </span>┃  │\n",
       "│ ┡━━━━━━━━━━╇━━━━━╇━━━━━━━━━━━╇━━━━━━━━━━╇━━━━━━━━━━━╇━━━━━━━━━━╇━━━━━━━━━━━╇━━━━━━━━━━╇━━━━━━━━━━━╇━━━━━━━━━━┩  │\n",
       "│ │ <span style=\"color: #af87ff; text-decoration-color: #af87ff\">Passenge</span> │ <span style=\"color: #008080; text-decoration-color: #008080\">  0</span> │ <span style=\"color: #008080; text-decoration-color: #008080\">        0</span> │ <span style=\"color: #af87ff; text-decoration-color: #af87ff\">0013_01 </span> │ <span style=\"color: #af87ff; text-decoration-color: #af87ff\">0013_01  </span> │ <span style=\"color: #af87ff; text-decoration-color: #af87ff\">0013_01 </span> │ <span style=\"color: #af87ff; text-decoration-color: #af87ff\">9277_01  </span> │ <span style=\"color: #008080; text-decoration-color: #008080\">       7</span> │ <span style=\"color: #008080; text-decoration-color: #008080\">        1</span> │ <span style=\"color: #008080; text-decoration-color: #008080\">    4277</span> │  │\n",
       "│ │ <span style=\"color: #af87ff; text-decoration-color: #af87ff\">rId     </span> │     │           │          │           │          │           │          │           │          │  │\n",
       "│ │ <span style=\"color: #af87ff; text-decoration-color: #af87ff\">HomePlan</span> │ <span style=\"color: #008080; text-decoration-color: #008080\"> 87</span> │ <span style=\"color: #008080; text-decoration-color: #008080\">2.0341360</span> │ <span style=\"color: #af87ff; text-decoration-color: #af87ff\">Mars    </span> │ <span style=\"color: #af87ff; text-decoration-color: #af87ff\">Europa   </span> │ <span style=\"color: #af87ff; text-decoration-color: #af87ff\">Earth   </span> │ <span style=\"color: #af87ff; text-decoration-color: #af87ff\">Mars     </span> │ <span style=\"color: #008080; text-decoration-color: #008080\">    5.02</span> │ <span style=\"color: #008080; text-decoration-color: #008080\">     0.98</span> │ <span style=\"color: #008080; text-decoration-color: #008080\">    4190</span> │  │\n",
       "│ │ <span style=\"color: #af87ff; text-decoration-color: #af87ff\">et      </span> │     │ <span style=\"color: #008080; text-decoration-color: #008080\"> 76689268</span> │          │           │          │           │          │           │          │  │\n",
       "│ │ <span style=\"color: #af87ff; text-decoration-color: #af87ff\">Cabin   </span> │ <span style=\"color: #008080; text-decoration-color: #008080\">100</span> │ <span style=\"color: #008080; text-decoration-color: #008080\">2.3380874</span> │ <span style=\"color: #af87ff; text-decoration-color: #af87ff\">G/3/S   </span> │ <span style=\"color: #af87ff; text-decoration-color: #af87ff\">F/1003/P </span> │ <span style=\"color: #af87ff; text-decoration-color: #af87ff\">A/1/P   </span> │ <span style=\"color: #af87ff; text-decoration-color: #af87ff\">T/4/P    </span> │ <span style=\"color: #008080; text-decoration-color: #008080\">    7.08</span> │ <span style=\"color: #008080; text-decoration-color: #008080\">     0.98</span> │ <span style=\"color: #008080; text-decoration-color: #008080\">    4177</span> │  │\n",
       "│ │          │     │ <span style=\"color: #008080; text-decoration-color: #008080\">444704234</span> │          │           │          │           │          │           │          │  │\n",
       "│ │ <span style=\"color: #af87ff; text-decoration-color: #af87ff\">Destinat</span> │ <span style=\"color: #008080; text-decoration-color: #008080\"> 92</span> │ <span style=\"color: #008080; text-decoration-color: #008080\">2.1510404</span> │ <span style=\"color: #af87ff; text-decoration-color: #af87ff\">TRAPPIST</span> │ <span style=\"color: #af87ff; text-decoration-color: #af87ff\">PSO      </span> │ <span style=\"color: #af87ff; text-decoration-color: #af87ff\">55      </span> │ <span style=\"color: #af87ff; text-decoration-color: #af87ff\">TRAPPIST-</span> │ <span style=\"color: #008080; text-decoration-color: #008080\">    11.2</span> │ <span style=\"color: #008080; text-decoration-color: #008080\">      1.5</span> │ <span style=\"color: #008080; text-decoration-color: #008080\">    6255</span> │  │\n",
       "│ │ <span style=\"color: #af87ff; text-decoration-color: #af87ff\">ion     </span> │     │ <span style=\"color: #008080; text-decoration-color: #008080\">489127892</span> │ <span style=\"color: #af87ff; text-decoration-color: #af87ff\">-1e     </span> │ <span style=\"color: #af87ff; text-decoration-color: #af87ff\">J318.5-22</span> │ <span style=\"color: #af87ff; text-decoration-color: #af87ff\">Cancri e</span> │ <span style=\"color: #af87ff; text-decoration-color: #af87ff\">1e       </span> │          │           │          │  │\n",
       "│ │ <span style=\"color: #af87ff; text-decoration-color: #af87ff\">Name    </span> │ <span style=\"color: #008080; text-decoration-color: #008080\"> 94</span> │ <span style=\"color: #008080; text-decoration-color: #008080\">2.1978021</span> │ <span style=\"color: #af87ff; text-decoration-color: #af87ff\">Ors Cha </span> │ <span style=\"color: #af87ff; text-decoration-color: #af87ff\">Arllia   </span> │ <span style=\"color: #af87ff; text-decoration-color: #af87ff\">Aard    </span> │ <span style=\"color: #af87ff; text-decoration-color: #af87ff\">Zubens   </span> │ <span style=\"color: #008080; text-decoration-color: #008080\">    13.8</span> │ <span style=\"color: #008080; text-decoration-color: #008080\">        2</span> │ <span style=\"color: #008080; text-decoration-color: #008080\">    8366</span> │  │\n",
       "│ │          │     │ <span style=\"color: #008080; text-decoration-color: #008080\"> 97802198</span> │          │ <span style=\"color: #af87ff; text-decoration-color: #af87ff\">Conleyden</span> │ <span style=\"color: #af87ff; text-decoration-color: #af87ff\">Backo   </span> │ <span style=\"color: #af87ff; text-decoration-color: #af87ff\">Peterive </span> │          │           │          │  │\n",
       "│ │          │     │           │          │ <span style=\"color: #af87ff; text-decoration-color: #af87ff\">an       </span> │          │           │          │           │          │  │\n",
       "│ └──────────┴─────┴───────────┴──────────┴───────────┴──────────┴───────────┴──────────┴───────────┴──────────┘  │\n",
       "╰────────────────────────────────────────────────────── End ──────────────────────────────────────────────────────╯\n",
       "</pre>\n"
      ],
      "text/plain": [
       "╭──────────────────────────────────────────────── skimpy summary ─────────────────────────────────────────────────╮\n",
       "│ \u001b[3m         Data Summary         \u001b[0m \u001b[3m      Data Types       \u001b[0m                                                          │\n",
       "│ ┏━━━━━━━━━━━━━━━━━━━┳━━━━━━━━┓ ┏━━━━━━━━━━━━━┳━━━━━━━┓                                                          │\n",
       "│ ┃\u001b[1;36m \u001b[0m\u001b[1;36mDataframe        \u001b[0m\u001b[1;36m \u001b[0m┃\u001b[1;36m \u001b[0m\u001b[1;36mValues\u001b[0m\u001b[1;36m \u001b[0m┃ ┃\u001b[1;36m \u001b[0m\u001b[1;36mColumn Type\u001b[0m\u001b[1;36m \u001b[0m┃\u001b[1;36m \u001b[0m\u001b[1;36mCount\u001b[0m\u001b[1;36m \u001b[0m┃                                                          │\n",
       "│ ┡━━━━━━━━━━━━━━━━━━━╇━━━━━━━━┩ ┡━━━━━━━━━━━━━╇━━━━━━━┩                                                          │\n",
       "│ │ Number of rows    │ 4277   │ │ float64     │ 6     │                                                          │\n",
       "│ │ Number of columns │ 13     │ │ string      │ 5     │                                                          │\n",
       "│ └───────────────────┴────────┘ │ bool        │ 2     │                                                          │\n",
       "│                                └─────────────┴───────┘                                                          │\n",
       "│ \u001b[3m                                                    number                                                    \u001b[0m  │\n",
       "│ ┏━━━━━━━━━━━━━━━━┳━━━━━━┳━━━━━━━━━━━━━━━━━━━━━━━┳━━━━━━━━┳━━━━━━━━┳━━━━━┳━━━━━━┳━━━━━━┳━━━━━┳━━━━━━━┳━━━━━━━━┓  │\n",
       "│ ┃\u001b[1m \u001b[0m\u001b[1mcolumn        \u001b[0m\u001b[1m \u001b[0m┃\u001b[1m \u001b[0m\u001b[1mNA  \u001b[0m\u001b[1m \u001b[0m┃\u001b[1m \u001b[0m\u001b[1mNA %                 \u001b[0m\u001b[1m \u001b[0m┃\u001b[1m \u001b[0m\u001b[1mmean  \u001b[0m\u001b[1m \u001b[0m┃\u001b[1m \u001b[0m\u001b[1msd    \u001b[0m\u001b[1m \u001b[0m┃\u001b[1m \u001b[0m\u001b[1mp0 \u001b[0m\u001b[1m \u001b[0m┃\u001b[1m \u001b[0m\u001b[1mp25 \u001b[0m\u001b[1m \u001b[0m┃\u001b[1m \u001b[0m\u001b[1mp50 \u001b[0m\u001b[1m \u001b[0m┃\u001b[1m \u001b[0m\u001b[1mp75\u001b[0m\u001b[1m \u001b[0m┃\u001b[1m \u001b[0m\u001b[1mp100 \u001b[0m\u001b[1m \u001b[0m┃\u001b[1m \u001b[0m\u001b[1mhist  \u001b[0m\u001b[1m \u001b[0m┃  │\n",
       "│ ┡━━━━━━━━━━━━━━━━╇━━━━━━╇━━━━━━━━━━━━━━━━━━━━━━━╇━━━━━━━━╇━━━━━━━━╇━━━━━╇━━━━━━╇━━━━━━╇━━━━━╇━━━━━━━╇━━━━━━━━┩  │\n",
       "│ │ \u001b[38;5;141mAge           \u001b[0m │ \u001b[36m  91\u001b[0m │ \u001b[36m    2.127659574468085\u001b[0m │ \u001b[36m 28.66\u001b[0m │ \u001b[36m 14.18\u001b[0m │ \u001b[36m  0\u001b[0m │ \u001b[36m  19\u001b[0m │ \u001b[36m  26\u001b[0m │ \u001b[36m 37\u001b[0m │ \u001b[36m   79\u001b[0m │ \u001b[32m▂█▅▃▁ \u001b[0m │  │\n",
       "│ │ \u001b[38;5;141mRoomService   \u001b[0m │ \u001b[36m  82\u001b[0m │ \u001b[36m    1.917231704465747\u001b[0m │ \u001b[36m 219.3\u001b[0m │ \u001b[36m   607\u001b[0m │ \u001b[36m  0\u001b[0m │ \u001b[36m   0\u001b[0m │ \u001b[36m   0\u001b[0m │ \u001b[36m 53\u001b[0m │ \u001b[36m11570\u001b[0m │ \u001b[32m  █   \u001b[0m │  │\n",
       "│ │ \u001b[38;5;141mFoodCourt     \u001b[0m │ \u001b[36m 106\u001b[0m │ \u001b[36m   2.4783726911386488\u001b[0m │ \u001b[36m 439.5\u001b[0m │ \u001b[36m  1528\u001b[0m │ \u001b[36m  0\u001b[0m │ \u001b[36m   0\u001b[0m │ \u001b[36m   0\u001b[0m │ \u001b[36m 78\u001b[0m │ \u001b[36m25270\u001b[0m │ \u001b[32m  █   \u001b[0m │  │\n",
       "│ │ \u001b[38;5;141mShoppingMall  \u001b[0m │ \u001b[36m  98\u001b[0m │ \u001b[36m   2.2913256955810146\u001b[0m │ \u001b[36m 177.3\u001b[0m │ \u001b[36m 560.8\u001b[0m │ \u001b[36m  0\u001b[0m │ \u001b[36m   0\u001b[0m │ \u001b[36m   0\u001b[0m │ \u001b[36m 33\u001b[0m │ \u001b[36m 8292\u001b[0m │ \u001b[32m  █   \u001b[0m │  │\n",
       "│ │ \u001b[38;5;141mSpa           \u001b[0m │ \u001b[36m 101\u001b[0m │ \u001b[36m   2.3614683189151275\u001b[0m │ \u001b[36m 303.1\u001b[0m │ \u001b[36m  1117\u001b[0m │ \u001b[36m  0\u001b[0m │ \u001b[36m   0\u001b[0m │ \u001b[36m   0\u001b[0m │ \u001b[36m 50\u001b[0m │ \u001b[36m19840\u001b[0m │ \u001b[32m  █   \u001b[0m │  │\n",
       "│ │ \u001b[38;5;141mVRDeck        \u001b[0m │ \u001b[36m  80\u001b[0m │ \u001b[36m   1.8704699555763387\u001b[0m │ \u001b[36m 310.7\u001b[0m │ \u001b[36m  1247\u001b[0m │ \u001b[36m  0\u001b[0m │ \u001b[36m   0\u001b[0m │ \u001b[36m   0\u001b[0m │ \u001b[36m 36\u001b[0m │ \u001b[36m22270\u001b[0m │ \u001b[32m  █   \u001b[0m │  │\n",
       "│ └────────────────┴──────┴───────────────────────┴────────┴────────┴─────┴──────┴──────┴─────┴───────┴────────┘  │\n",
       "│ \u001b[3m                                                     bool                                                     \u001b[0m  │\n",
       "│ ┏━━━━━━━━━━━━━━━━━━━━━━━━━━━━━━━━━┳━━━━━━━━━━━━━━━━━━┳━━━━━━━━━━━━━━━━━━━━━━━━━━━━━━━━┳━━━━━━━━━━━━━━━━━━━━━━┓  │\n",
       "│ ┃\u001b[1m \u001b[0m\u001b[1mcolumn                         \u001b[0m\u001b[1m \u001b[0m┃\u001b[1m \u001b[0m\u001b[1mtrue            \u001b[0m\u001b[1m \u001b[0m┃\u001b[1m \u001b[0m\u001b[1mtrue rate                     \u001b[0m\u001b[1m \u001b[0m┃\u001b[1m \u001b[0m\u001b[1mhist                \u001b[0m\u001b[1m \u001b[0m┃  │\n",
       "│ ┡━━━━━━━━━━━━━━━━━━━━━━━━━━━━━━━━━╇━━━━━━━━━━━━━━━━━━╇━━━━━━━━━━━━━━━━━━━━━━━━━━━━━━━━╇━━━━━━━━━━━━━━━━━━━━━━┩  │\n",
       "│ │ \u001b[38;5;141mCryoSleep                      \u001b[0m │ \u001b[36m            1637\u001b[0m │ \u001b[36m                          0.38\u001b[0m │ \u001b[32m       █    ▅       \u001b[0m │  │\n",
       "│ │ \u001b[38;5;141mVIP                            \u001b[0m │ \u001b[36m             167\u001b[0m │ \u001b[36m                         0.039\u001b[0m │ \u001b[32m         █          \u001b[0m │  │\n",
       "│ └─────────────────────────────────┴──────────────────┴────────────────────────────────┴──────────────────────┘  │\n",
       "│ \u001b[3m                                                    string                                                    \u001b[0m  │\n",
       "│ ┏━━━━━━━━━━┳━━━━━┳━━━━━━━━━━━┳━━━━━━━━━━┳━━━━━━━━━━━┳━━━━━━━━━━┳━━━━━━━━━━━┳━━━━━━━━━━┳━━━━━━━━━━━┳━━━━━━━━━━┓  │\n",
       "│ ┃\u001b[1m          \u001b[0m┃\u001b[1m     \u001b[0m┃\u001b[1m           \u001b[0m┃\u001b[1m          \u001b[0m┃\u001b[1m           \u001b[0m┃\u001b[1m          \u001b[0m┃\u001b[1m           \u001b[0m┃\u001b[1m \u001b[0m\u001b[1mchars   \u001b[0m\u001b[1m \u001b[0m┃\u001b[1m \u001b[0m\u001b[1mwords per\u001b[0m\u001b[1m \u001b[0m┃\u001b[1m \u001b[0m\u001b[1mtotal   \u001b[0m\u001b[1m \u001b[0m┃  │\n",
       "│ ┃\u001b[1m \u001b[0m\u001b[1mcolumn  \u001b[0m\u001b[1m \u001b[0m┃\u001b[1m \u001b[0m\u001b[1mNA \u001b[0m\u001b[1m \u001b[0m┃\u001b[1m \u001b[0m\u001b[1mNA %     \u001b[0m\u001b[1m \u001b[0m┃\u001b[1m \u001b[0m\u001b[1mshortest\u001b[0m\u001b[1m \u001b[0m┃\u001b[1m \u001b[0m\u001b[1mlongest  \u001b[0m\u001b[1m \u001b[0m┃\u001b[1m \u001b[0m\u001b[1mmin     \u001b[0m\u001b[1m \u001b[0m┃\u001b[1m \u001b[0m\u001b[1mmax      \u001b[0m\u001b[1m \u001b[0m┃\u001b[1m \u001b[0m\u001b[1mper row \u001b[0m\u001b[1m \u001b[0m┃\u001b[1m \u001b[0m\u001b[1mrow      \u001b[0m\u001b[1m \u001b[0m┃\u001b[1m \u001b[0m\u001b[1mwords   \u001b[0m\u001b[1m \u001b[0m┃  │\n",
       "│ ┡━━━━━━━━━━╇━━━━━╇━━━━━━━━━━━╇━━━━━━━━━━╇━━━━━━━━━━━╇━━━━━━━━━━╇━━━━━━━━━━━╇━━━━━━━━━━╇━━━━━━━━━━━╇━━━━━━━━━━┩  │\n",
       "│ │ \u001b[38;5;141mPassenge\u001b[0m │ \u001b[36m  0\u001b[0m │ \u001b[36m        0\u001b[0m │ \u001b[38;5;141m0013_01 \u001b[0m │ \u001b[38;5;141m0013_01  \u001b[0m │ \u001b[38;5;141m0013_01 \u001b[0m │ \u001b[38;5;141m9277_01  \u001b[0m │ \u001b[36m       7\u001b[0m │ \u001b[36m        1\u001b[0m │ \u001b[36m    4277\u001b[0m │  │\n",
       "│ │ \u001b[38;5;141mrId     \u001b[0m │     │           │          │           │          │           │          │           │          │  │\n",
       "│ │ \u001b[38;5;141mHomePlan\u001b[0m │ \u001b[36m 87\u001b[0m │ \u001b[36m2.0341360\u001b[0m │ \u001b[38;5;141mMars    \u001b[0m │ \u001b[38;5;141mEuropa   \u001b[0m │ \u001b[38;5;141mEarth   \u001b[0m │ \u001b[38;5;141mMars     \u001b[0m │ \u001b[36m    5.02\u001b[0m │ \u001b[36m     0.98\u001b[0m │ \u001b[36m    4190\u001b[0m │  │\n",
       "│ │ \u001b[38;5;141met      \u001b[0m │     │ \u001b[36m 76689268\u001b[0m │          │           │          │           │          │           │          │  │\n",
       "│ │ \u001b[38;5;141mCabin   \u001b[0m │ \u001b[36m100\u001b[0m │ \u001b[36m2.3380874\u001b[0m │ \u001b[38;5;141mG/3/S   \u001b[0m │ \u001b[38;5;141mF/1003/P \u001b[0m │ \u001b[38;5;141mA/1/P   \u001b[0m │ \u001b[38;5;141mT/4/P    \u001b[0m │ \u001b[36m    7.08\u001b[0m │ \u001b[36m     0.98\u001b[0m │ \u001b[36m    4177\u001b[0m │  │\n",
       "│ │          │     │ \u001b[36m444704234\u001b[0m │          │           │          │           │          │           │          │  │\n",
       "│ │ \u001b[38;5;141mDestinat\u001b[0m │ \u001b[36m 92\u001b[0m │ \u001b[36m2.1510404\u001b[0m │ \u001b[38;5;141mTRAPPIST\u001b[0m │ \u001b[38;5;141mPSO      \u001b[0m │ \u001b[38;5;141m55      \u001b[0m │ \u001b[38;5;141mTRAPPIST-\u001b[0m │ \u001b[36m    11.2\u001b[0m │ \u001b[36m      1.5\u001b[0m │ \u001b[36m    6255\u001b[0m │  │\n",
       "│ │ \u001b[38;5;141mion     \u001b[0m │     │ \u001b[36m489127892\u001b[0m │ \u001b[38;5;141m-1e     \u001b[0m │ \u001b[38;5;141mJ318.5-22\u001b[0m │ \u001b[38;5;141mCancri e\u001b[0m │ \u001b[38;5;141m1e       \u001b[0m │          │           │          │  │\n",
       "│ │ \u001b[38;5;141mName    \u001b[0m │ \u001b[36m 94\u001b[0m │ \u001b[36m2.1978021\u001b[0m │ \u001b[38;5;141mOrs Cha \u001b[0m │ \u001b[38;5;141mArllia   \u001b[0m │ \u001b[38;5;141mAard    \u001b[0m │ \u001b[38;5;141mZubens   \u001b[0m │ \u001b[36m    13.8\u001b[0m │ \u001b[36m        2\u001b[0m │ \u001b[36m    8366\u001b[0m │  │\n",
       "│ │          │     │ \u001b[36m 97802198\u001b[0m │          │ \u001b[38;5;141mConleyden\u001b[0m │ \u001b[38;5;141mBacko   \u001b[0m │ \u001b[38;5;141mPeterive \u001b[0m │          │           │          │  │\n",
       "│ │          │     │           │          │ \u001b[38;5;141man       \u001b[0m │          │           │          │           │          │  │\n",
       "│ └──────────┴─────┴───────────┴──────────┴───────────┴──────────┴───────────┴──────────┴───────────┴──────────┘  │\n",
       "╰────────────────────────────────────────────────────── End ──────────────────────────────────────────────────────╯\n"
      ]
     },
     "metadata": {},
     "output_type": "display_data"
    }
   ],
   "source": [
    "from skimpy import skim\n",
    "\n",
    "skim(spacetitanic_test)"
   ]
  },
  {
   "cell_type": "code",
   "execution_count": 4,
   "metadata": {},
   "outputs": [],
   "source": [
    "#Drop unuseful columns\n",
    "spacetitanic_train.drop(['PassengerId', 'Name'], axis=1, inplace=True)"
   ]
  },
  {
   "cell_type": "code",
   "execution_count": 5,
   "metadata": {},
   "outputs": [
    {
     "name": "stdout",
     "output_type": "stream",
     "text": [
      "  HomePlanet CryoSleep  Cabin  Destination   Age    VIP  RoomService  \\\n",
      "0     Europa     False  B/0/P  TRAPPIST-1e  39.0  False          0.0   \n",
      "1      Earth     False  F/0/S  TRAPPIST-1e  24.0  False        109.0   \n",
      "2     Europa     False  A/0/S  TRAPPIST-1e  58.0   True         43.0   \n",
      "3     Europa     False  A/0/S  TRAPPIST-1e  33.0  False          0.0   \n",
      "4      Earth     False  F/1/S  TRAPPIST-1e  16.0  False        303.0   \n",
      "\n",
      "   FoodCourt  ShoppingMall     Spa  VRDeck  Transported  \n",
      "0        0.0           0.0     0.0     0.0        False  \n",
      "1        9.0          25.0   549.0    44.0         True  \n",
      "2     3576.0           0.0  6715.0    49.0        False  \n",
      "3     1283.0         371.0  3329.0   193.0        False  \n",
      "4       70.0         151.0   565.0     2.0         True  \n"
     ]
    }
   ],
   "source": [
    "# Drop the target column\n",
    "X_train = spacetitanic_train.drop('Transported', axis=1)\n",
    "y_train = spacetitanic_train['Transported']\n",
    "print(spacetitanic_train.head())"
   ]
  },
  {
   "cell_type": "code",
   "execution_count": 18,
   "metadata": {},
   "outputs": [],
   "source": [
    "# Imports the Google Cloud client library\n",
    "from google.cloud import storage\n",
    "# Instantiates a client\n",
    "storage_client = storage.Client.from_service_account_json(\"spaceship-key.json\")"
   ]
  },
  {
   "cell_type": "code",
   "execution_count": 19,
   "metadata": {},
   "outputs": [],
   "source": [
    "bucket_name = \"spaceship_titanic_bucket\"\n",
    "source_directory = \"data\"  # The folder containing the files"
   ]
  },
  {
   "cell_type": "code",
   "execution_count": 20,
   "metadata": {},
   "outputs": [],
   "source": [
    "import os\n",
    "# Imports the Google Cloud client library\n",
    "from google.cloud.storage import transfer_manager\n",
    "from google.cloud import storage\n",
    "# Instantiates a client\n",
    "storage_client = storage.Client.from_service_account_json(\"spaceship-key.json\")\n",
    "\n",
    "def upload_many_blobs_with_transfer_manager(\n",
    "    bucket_name, source_directory, workers=8\n",
    "):\n",
    "    bucket = storage_client.bucket(bucket_name)\n",
    "\n",
    "    # Get all the filenames from the source directory\n",
    "    filenames = [os.path.join(source_directory, filename) for filename in os.listdir(source_directory) if os.path.isfile(os.path.join(source_directory, filename))]\n",
    "\n",
    "    results = transfer_manager.upload_many_from_filenames(\n",
    "        bucket, filenames, source_directory=source_directory, max_workers=workers\n",
    "    )\n",
    "\n",
    "    for name, result in zip(filenames, results):\n",
    "        # The results list is either `None` or an exception for each filename in\n",
    "        # the input list, in order.\n",
    "\n",
    "        if isinstance(result, Exception):\n",
    "            print(\"Failed to upload {} due to exception: {}\".format(name, result))\n",
    "        else:\n",
    "            print(\"Uploaded {} to {}.\".format(name, bucket.name))\n",
    "\n"
   ]
  },
  {
   "cell_type": "code",
   "execution_count": 22,
   "metadata": {},
   "outputs": [
    {
     "name": "stdout",
     "output_type": "stream",
     "text": [
      "Files in bucket 'spaceship_titanic_bucket':\n",
      "model\n",
      "sample_submission.csv\n",
      "test.csv\n",
      "train.csv\n"
     ]
    }
   ],
   "source": [
    "# Imports the Google Cloud client library\n",
    "from google.cloud import storage\n",
    "\n",
    "# Instantiates a client using a service account key file\n",
    "storage_client = storage.Client.from_service_account_json(\"spaceship-key.json\")\n",
    "bucket_name = \"spaceship_titanic_bucket\"\n",
    "\n",
    "def list_files_in_bucket(bucket_name):\n",
    "    \"\"\"Lists all the files in the specified bucket.\"\"\"\n",
    "\n",
    "    # Get the bucket object using the pre-initialized storage_client\n",
    "    bucket = storage_client.bucket(bucket_name)\n",
    "\n",
    "    # List all blobs (files) in the bucket\n",
    "    blobs = bucket.list_blobs()  # Use bucket.list_blobs(), not storage_client.list_blobs()\n",
    "\n",
    "    # Print the file names in the bucket\n",
    "    print(f\"Files in bucket '{bucket_name}':\")\n",
    "    for blob in blobs:\n",
    "        print(blob.name)\n",
    "\n",
    "# Call the function\n",
    "list_files_in_bucket(bucket_name)\n"
   ]
  },
  {
   "cell_type": "code",
   "execution_count": null,
   "metadata": {},
   "outputs": [],
   "source": []
  }
 ],
 "metadata": {
  "kernelspec": {
   "display_name": "space_titanic",
   "language": "python",
   "name": "python3"
  },
  "language_info": {
   "codemirror_mode": {
    "name": "ipython",
    "version": 3
   },
   "file_extension": ".py",
   "mimetype": "text/x-python",
   "name": "python",
   "nbconvert_exporter": "python",
   "pygments_lexer": "ipython3",
   "version": "3.10.12"
  }
 },
 "nbformat": 4,
 "nbformat_minor": 2
}
