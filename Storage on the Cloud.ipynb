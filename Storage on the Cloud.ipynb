{
 "cells": [
  {
   "cell_type": "markdown",
   "id": "5211e5fd",
   "metadata": {
    "ExecuteTime": {
     "end_time": "2025-02-10T10:30:22.220399Z",
     "start_time": "2025-02-10T10:30:22.218415Z"
    }
   },
   "source": [
    "# Storage on the Cloud\n",
    "\n",
    "If you want to use a service account you should create it and give him the appropriate right, follow : \n",
    "* https://cloud.google.com/iam/docs/service-accounts-create"
   ]
  },
  {
   "cell_type": "code",
   "execution_count": 2,
   "id": "e014919e",
   "metadata": {
    "ExecuteTime": {
     "end_time": "2025-02-10T10:30:22.351324Z",
     "start_time": "2025-02-10T10:30:22.221507Z"
    }
   },
   "outputs": [
    {
     "name": "stdout",
     "output_type": "stream",
     "text": [
      "\u001b[1;36m.\u001b[0m\r\n",
      "├── Storage on the Cloud.ipynb\r\n",
      "├── \u001b[1;36mcredentials\u001b[0m\r\n",
      "│   └── service-account.json\r\n",
      "└── model.pkl\r\n",
      "\r\n",
      "2 directories, 3 files\r\n"
     ]
    }
   ],
   "source": [
    "! tree"
   ]
  },
  {
   "cell_type": "markdown",
   "id": "e2e0c7d9",
   "metadata": {},
   "source": [
    "## Cloud Storage\n",
    "\n",
    "[READ THE DOC](https://cloud.google.com/appengine/docs/legacy/standard/python/googlecloudstorageclient/read-write-to-cloud-storage#writing_to)"
   ]
  },
  {
   "cell_type": "code",
   "execution_count": 3,
   "id": "5bea5971",
   "metadata": {
    "ExecuteTime": {
     "end_time": "2025-02-10T10:30:23.250006Z",
     "start_time": "2025-02-10T10:30:22.354075Z"
    }
   },
   "outputs": [],
   "source": [
    "from sklearn.datasets import load_iris\n",
    "from sklearn.linear_model import LogisticRegression\n",
    "import pickle"
   ]
  },
  {
   "cell_type": "code",
   "execution_count": 4,
   "id": "efa1c1a9",
   "metadata": {
    "ExecuteTime": {
     "end_time": "2025-02-10T10:30:23.262855Z",
     "start_time": "2025-02-10T10:30:23.251792Z"
    }
   },
   "outputs": [],
   "source": [
    "X,y = load_iris(return_X_y=True)\n",
    "model =LogisticRegression(max_iter=10_000)\n",
    "model.fit(X,y)\n",
    "\n",
    "with open(\"model.pkl\",\"wb\") as f :\n",
    "    pickle.dump(model,f)"
   ]
  },
  {
   "cell_type": "code",
   "execution_count": 5,
   "id": "b13db363",
   "metadata": {
    "ExecuteTime": {
     "end_time": "2025-02-10T10:30:23.421423Z",
     "start_time": "2025-02-10T10:30:23.263663Z"
    }
   },
   "outputs": [],
   "source": [
    "# Imports the Google Cloud client library\n",
    "from google.cloud import storage\n",
    "\n",
    "# Instantiates a client\n",
    "\n",
    "storage_client = storage.Client.from_service_account_json(\"credentials/service-account.json\")\n",
    "#storage_client = storage.Client()\n",
    "\n",
    "bucket_name = \"my-awesome-bucket-batch551\""
   ]
  },
  {
   "cell_type": "code",
   "execution_count": 6,
   "id": "de74f7c8",
   "metadata": {
    "ExecuteTime": {
     "end_time": "2025-02-10T10:30:24.741927Z",
     "start_time": "2025-02-10T10:30:23.422307Z"
    }
   },
   "outputs": [
    {
     "name": "stdout",
     "output_type": "stream",
     "text": [
      "✅ Model Saved to GCS\n"
     ]
    }
   ],
   "source": [
    "def write(bucket_name, blob_name,mode):\n",
    "    \"\"\"Write and read a blob from GCS using file-like IO\"\"\"\n",
    "\n",
    "\n",
    "    storage_client = storage.Client()\n",
    "    bucket = storage_client.bucket(bucket_name)\n",
    "    blob = bucket.blob(blob_name)\n",
    "\n",
    "    with blob.open(mode) as f:\n",
    "        pickle.dump(model,f)\n",
    "        \n",
    "    print(\"✅ Model Saved to GCS\")\n",
    "\n",
    "        \n",
    "\n",
    "write(bucket_name,\"model\",\"wb\")\n"
   ]
  },
  {
   "cell_type": "markdown",
   "id": "bde3cfe5",
   "metadata": {},
   "source": [
    "## BigQuery \n",
    "Bigquery sample : [READ THE DOC](https://cloud.google.com/bigquery/docs/samples?language=python)\n"
   ]
  },
  {
   "cell_type": "code",
   "execution_count": 7,
   "id": "4010d893",
   "metadata": {
    "ExecuteTime": {
     "end_time": "2025-02-10T10:30:26.818239Z",
     "start_time": "2025-02-10T10:30:24.744549Z"
    }
   },
   "outputs": [
    {
     "data": {
      "text/html": [
       "<div>\n",
       "<style scoped>\n",
       "    .dataframe tbody tr th:only-of-type {\n",
       "        vertical-align: middle;\n",
       "    }\n",
       "\n",
       "    .dataframe tbody tr th {\n",
       "        vertical-align: top;\n",
       "    }\n",
       "\n",
       "    .dataframe thead th {\n",
       "        text-align: right;\n",
       "    }\n",
       "</style>\n",
       "<table border=\"1\" class=\"dataframe\">\n",
       "  <thead>\n",
       "    <tr style=\"text-align: right;\">\n",
       "      <th></th>\n",
       "      <th>id_</th>\n",
       "      <th>first_name</th>\n",
       "      <th>last_name</th>\n",
       "      <th>batch</th>\n",
       "      <th>birth_year</th>\n",
       "      <th>birthdate</th>\n",
       "      <th>Language</th>\n",
       "      <th>linkedIN</th>\n",
       "    </tr>\n",
       "  </thead>\n",
       "  <tbody>\n",
       "    <tr>\n",
       "      <th>0</th>\n",
       "      <td>1</td>\n",
       "      <td>Steve</td>\n",
       "      <td>Jobs</td>\n",
       "      <td>1</td>\n",
       "      <td>1955</td>\n",
       "      <td>1955-08-11</td>\n",
       "      <td>EN</td>\n",
       "      <td>None</td>\n",
       "    </tr>\n",
       "    <tr>\n",
       "      <th>1</th>\n",
       "      <td>2</td>\n",
       "      <td>Michael</td>\n",
       "      <td>Jackson</td>\n",
       "      <td>1</td>\n",
       "      <td>1958</td>\n",
       "      <td>1958-01-28</td>\n",
       "      <td>EN</td>\n",
       "      <td>None</td>\n",
       "    </tr>\n",
       "    <tr>\n",
       "      <th>2</th>\n",
       "      <td>3</td>\n",
       "      <td>Vincent</td>\n",
       "      <td>Luciani</td>\n",
       "      <td>1</td>\n",
       "      <td>1980</td>\n",
       "      <td>1980-04-26</td>\n",
       "      <td>FR</td>\n",
       "      <td>vincent-luciani-51653016</td>\n",
       "    </tr>\n",
       "    <tr>\n",
       "      <th>3</th>\n",
       "      <td>4</td>\n",
       "      <td>Yann</td>\n",
       "      <td>LeCun</td>\n",
       "      <td>5</td>\n",
       "      <td>1960</td>\n",
       "      <td>1960-04-19</td>\n",
       "      <td>FR</td>\n",
       "      <td>yann-lecun</td>\n",
       "    </tr>\n",
       "    <tr>\n",
       "      <th>4</th>\n",
       "      <td>5</td>\n",
       "      <td>bernard</td>\n",
       "      <td>ourghanlian</td>\n",
       "      <td>5</td>\n",
       "      <td>1947</td>\n",
       "      <td>1947-12-05</td>\n",
       "      <td>FR</td>\n",
       "      <td>bernardourghanlian</td>\n",
       "    </tr>\n",
       "  </tbody>\n",
       "</table>\n",
       "</div>"
      ],
      "text/plain": [
       "   id_ first_name    last_name  batch  birth_year   birthdate Language  \\\n",
       "0    1      Steve         Jobs      1        1955  1955-08-11       EN   \n",
       "1    2    Michael      Jackson      1        1958  1958-01-28       EN   \n",
       "2    3    Vincent      Luciani      1        1980  1980-04-26       FR   \n",
       "3    4       Yann        LeCun      5        1960  1960-04-19       FR   \n",
       "4    5    bernard  ourghanlian      5        1947  1947-12-05       FR   \n",
       "\n",
       "                   linkedIN  \n",
       "0                      None  \n",
       "1                      None  \n",
       "2  vincent-luciani-51653016  \n",
       "3                yann-lecun  \n",
       "4        bernardourghanlian  "
      ]
     },
     "execution_count": 7,
     "metadata": {},
     "output_type": "execute_result"
    }
   ],
   "source": [
    "from google.cloud import bigquery\n",
    "\n",
    "client = bigquery.Client.from_service_account_json(\"credentials/service-account.json\")\n",
    "project = \"mlflowserverbatch55-eb77\"\n",
    "dataset_id = \"myawesomeadataset\"\n",
    "\n",
    "dataset_ref = bigquery.DatasetReference(project, dataset_id)\n",
    "table_ref = dataset_ref.table(\"students\")\n",
    "table = client.get_table(table_ref)\n",
    "\n",
    "df = client.list_rows(table).to_dataframe()\n",
    "df.head()"
   ]
  }
 ],
 "metadata": {
  "kernelspec": {
   "display_name": "Python 3 (ipykernel)",
   "language": "python",
   "name": "python3"
  },
  "language_info": {
   "codemirror_mode": {
    "name": "ipython",
    "version": 3
   },
   "file_extension": ".py",
   "mimetype": "text/x-python",
   "name": "python",
   "nbconvert_exporter": "python",
   "pygments_lexer": "ipython3",
   "version": "3.10.12"
  },
  "toc": {
   "base_numbering": 1,
   "nav_menu": {},
   "number_sections": true,
   "sideBar": true,
   "skip_h1_title": false,
   "title_cell": "Table of Contents",
   "title_sidebar": "Contents",
   "toc_cell": false,
   "toc_position": {},
   "toc_section_display": true,
   "toc_window_display": false
  }
 },
 "nbformat": 4,
 "nbformat_minor": 5
}
